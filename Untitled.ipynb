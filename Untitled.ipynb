{
 "cells": [
  {
   "cell_type": "code",
   "execution_count": 1,
   "metadata": {},
   "outputs": [],
   "source": [
    "import pandas as pd\n",
    "import numpy as np\n",
    "import matplotlib.pyplot as plt\n",
    "import seaborn as sns\n",
    "%matplotlib inline"
   ]
  },
  {
   "cell_type": "code",
   "execution_count": 2,
   "metadata": {},
   "outputs": [],
   "source": [
    "df=pd.read_csv('loan.csv')"
   ]
  },
  {
   "cell_type": "code",
   "execution_count": 3,
   "metadata": {},
   "outputs": [
    {
     "data": {
      "text/html": [
       "<div>\n",
       "<style scoped>\n",
       "    .dataframe tbody tr th:only-of-type {\n",
       "        vertical-align: middle;\n",
       "    }\n",
       "\n",
       "    .dataframe tbody tr th {\n",
       "        vertical-align: top;\n",
       "    }\n",
       "\n",
       "    .dataframe thead th {\n",
       "        text-align: right;\n",
       "    }\n",
       "</style>\n",
       "<table border=\"1\" class=\"dataframe\">\n",
       "  <thead>\n",
       "    <tr style=\"text-align: right;\">\n",
       "      <th></th>\n",
       "      <th>id</th>\n",
       "      <th>loan_amnt</th>\n",
       "      <th>term</th>\n",
       "      <th>int_rate</th>\n",
       "      <th>installment</th>\n",
       "      <th>grade</th>\n",
       "      <th>emp_length</th>\n",
       "      <th>home_ownership</th>\n",
       "      <th>annual_inc</th>\n",
       "      <th>purpose</th>\n",
       "      <th>addr_state</th>\n",
       "      <th>inq_last_6mths</th>\n",
       "      <th>revol_util</th>\n",
       "      <th>total_pymnt</th>\n",
       "      <th>last_pymnt_d</th>\n",
       "      <th>last_pymnt_amnt</th>\n",
       "      <th>loan_status</th>\n",
       "    </tr>\n",
       "  </thead>\n",
       "  <tbody>\n",
       "    <tr>\n",
       "      <th>0</th>\n",
       "      <td>1077501</td>\n",
       "      <td>5000</td>\n",
       "      <td>36 months</td>\n",
       "      <td>10.65</td>\n",
       "      <td>162.87</td>\n",
       "      <td>B</td>\n",
       "      <td>10+ years</td>\n",
       "      <td>RENT</td>\n",
       "      <td>24000.0</td>\n",
       "      <td>credit_card</td>\n",
       "      <td>AZ</td>\n",
       "      <td>1</td>\n",
       "      <td>83.7</td>\n",
       "      <td>5861.071414</td>\n",
       "      <td>Jan-15</td>\n",
       "      <td>171.62</td>\n",
       "      <td>0</td>\n",
       "    </tr>\n",
       "    <tr>\n",
       "      <th>1</th>\n",
       "      <td>1077430</td>\n",
       "      <td>2500</td>\n",
       "      <td>60 months</td>\n",
       "      <td>15.27</td>\n",
       "      <td>59.83</td>\n",
       "      <td>C</td>\n",
       "      <td>&lt; 1 year</td>\n",
       "      <td>RENT</td>\n",
       "      <td>30000.0</td>\n",
       "      <td>car</td>\n",
       "      <td>GA</td>\n",
       "      <td>5</td>\n",
       "      <td>9.4</td>\n",
       "      <td>1008.710000</td>\n",
       "      <td>Apr-13</td>\n",
       "      <td>119.66</td>\n",
       "      <td>1</td>\n",
       "    </tr>\n",
       "    <tr>\n",
       "      <th>2</th>\n",
       "      <td>1077175</td>\n",
       "      <td>2400</td>\n",
       "      <td>36 months</td>\n",
       "      <td>15.96</td>\n",
       "      <td>84.33</td>\n",
       "      <td>C</td>\n",
       "      <td>10+ years</td>\n",
       "      <td>RENT</td>\n",
       "      <td>12252.0</td>\n",
       "      <td>small_business</td>\n",
       "      <td>IL</td>\n",
       "      <td>2</td>\n",
       "      <td>98.5</td>\n",
       "      <td>3003.653644</td>\n",
       "      <td>Jun-14</td>\n",
       "      <td>649.91</td>\n",
       "      <td>0</td>\n",
       "    </tr>\n",
       "    <tr>\n",
       "      <th>3</th>\n",
       "      <td>1076863</td>\n",
       "      <td>10000</td>\n",
       "      <td>36 months</td>\n",
       "      <td>13.49</td>\n",
       "      <td>339.31</td>\n",
       "      <td>C</td>\n",
       "      <td>10+ years</td>\n",
       "      <td>RENT</td>\n",
       "      <td>49200.0</td>\n",
       "      <td>other</td>\n",
       "      <td>CA</td>\n",
       "      <td>1</td>\n",
       "      <td>21.0</td>\n",
       "      <td>12226.302210</td>\n",
       "      <td>Jan-15</td>\n",
       "      <td>357.48</td>\n",
       "      <td>0</td>\n",
       "    </tr>\n",
       "    <tr>\n",
       "      <th>4</th>\n",
       "      <td>1075358</td>\n",
       "      <td>3000</td>\n",
       "      <td>60 months</td>\n",
       "      <td>12.69</td>\n",
       "      <td>67.79</td>\n",
       "      <td>B</td>\n",
       "      <td>1 year</td>\n",
       "      <td>RENT</td>\n",
       "      <td>80000.0</td>\n",
       "      <td>other</td>\n",
       "      <td>OR</td>\n",
       "      <td>0</td>\n",
       "      <td>53.9</td>\n",
       "      <td>3242.170000</td>\n",
       "      <td>Jan-16</td>\n",
       "      <td>67.79</td>\n",
       "      <td>1</td>\n",
       "    </tr>\n",
       "  </tbody>\n",
       "</table>\n",
       "</div>"
      ],
      "text/plain": [
       "        id  loan_amnt        term  int_rate  installment grade emp_length  \\\n",
       "0  1077501       5000   36 months     10.65       162.87     B  10+ years   \n",
       "1  1077430       2500   60 months     15.27        59.83     C   < 1 year   \n",
       "2  1077175       2400   36 months     15.96        84.33     C  10+ years   \n",
       "3  1076863      10000   36 months     13.49       339.31     C  10+ years   \n",
       "4  1075358       3000   60 months     12.69        67.79     B     1 year   \n",
       "\n",
       "  home_ownership  annual_inc         purpose addr_state  inq_last_6mths  \\\n",
       "0           RENT     24000.0     credit_card         AZ               1   \n",
       "1           RENT     30000.0             car         GA               5   \n",
       "2           RENT     12252.0  small_business         IL               2   \n",
       "3           RENT     49200.0           other         CA               1   \n",
       "4           RENT     80000.0           other         OR               0   \n",
       "\n",
       "   revol_util   total_pymnt last_pymnt_d  last_pymnt_amnt  loan_status  \n",
       "0        83.7   5861.071414       Jan-15           171.62            0  \n",
       "1         9.4   1008.710000       Apr-13           119.66            1  \n",
       "2        98.5   3003.653644       Jun-14           649.91            0  \n",
       "3        21.0  12226.302210       Jan-15           357.48            0  \n",
       "4        53.9   3242.170000       Jan-16            67.79            1  "
      ]
     },
     "execution_count": 3,
     "metadata": {},
     "output_type": "execute_result"
    }
   ],
   "source": [
    "df.head()"
   ]
  },
  {
   "cell_type": "code",
   "execution_count": 4,
   "metadata": {},
   "outputs": [
    {
     "data": {
      "text/html": [
       "<div>\n",
       "<style scoped>\n",
       "    .dataframe tbody tr th:only-of-type {\n",
       "        vertical-align: middle;\n",
       "    }\n",
       "\n",
       "    .dataframe tbody tr th {\n",
       "        vertical-align: top;\n",
       "    }\n",
       "\n",
       "    .dataframe thead th {\n",
       "        text-align: right;\n",
       "    }\n",
       "</style>\n",
       "<table border=\"1\" class=\"dataframe\">\n",
       "  <thead>\n",
       "    <tr style=\"text-align: right;\">\n",
       "      <th></th>\n",
       "      <th>id</th>\n",
       "      <th>loan_amnt</th>\n",
       "      <th>int_rate</th>\n",
       "      <th>installment</th>\n",
       "      <th>annual_inc</th>\n",
       "      <th>inq_last_6mths</th>\n",
       "      <th>revol_util</th>\n",
       "      <th>total_pymnt</th>\n",
       "      <th>last_pymnt_amnt</th>\n",
       "      <th>loan_status</th>\n",
       "    </tr>\n",
       "  </thead>\n",
       "  <tbody>\n",
       "    <tr>\n",
       "      <th>count</th>\n",
       "      <td>2.400000e+01</td>\n",
       "      <td>24.000000</td>\n",
       "      <td>24.000000</td>\n",
       "      <td>24.000000</td>\n",
       "      <td>24.000000</td>\n",
       "      <td>24.000000</td>\n",
       "      <td>24.000000</td>\n",
       "      <td>24.000000</td>\n",
       "      <td>24.000000</td>\n",
       "      <td>24.000000</td>\n",
       "    </tr>\n",
       "    <tr>\n",
       "      <th>mean</th>\n",
       "      <td>1.069761e+06</td>\n",
       "      <td>7517.708333</td>\n",
       "      <td>13.015000</td>\n",
       "      <td>230.289167</td>\n",
       "      <td>52633.799583</td>\n",
       "      <td>1.250000</td>\n",
       "      <td>58.067917</td>\n",
       "      <td>7472.457372</td>\n",
       "      <td>1328.046250</td>\n",
       "      <td>0.333333</td>\n",
       "    </tr>\n",
       "    <tr>\n",
       "      <th>std</th>\n",
       "      <td>7.606441e+03</td>\n",
       "      <td>5085.318164</td>\n",
       "      <td>3.591979</td>\n",
       "      <td>158.804054</td>\n",
       "      <td>28836.832912</td>\n",
       "      <td>1.293798</td>\n",
       "      <td>29.600420</td>\n",
       "      <td>6104.020103</td>\n",
       "      <td>2359.096244</td>\n",
       "      <td>0.481543</td>\n",
       "    </tr>\n",
       "    <tr>\n",
       "      <th>min</th>\n",
       "      <td>1.039153e+06</td>\n",
       "      <td>1000.000000</td>\n",
       "      <td>6.030000</td>\n",
       "      <td>35.310000</td>\n",
       "      <td>12252.000000</td>\n",
       "      <td>0.000000</td>\n",
       "      <td>9.400000</td>\n",
       "      <td>646.020000</td>\n",
       "      <td>16.980000</td>\n",
       "      <td>0.000000</td>\n",
       "    </tr>\n",
       "    <tr>\n",
       "      <th>25%</th>\n",
       "      <td>1.069685e+06</td>\n",
       "      <td>3450.000000</td>\n",
       "      <td>11.445000</td>\n",
       "      <td>109.535000</td>\n",
       "      <td>30000.000000</td>\n",
       "      <td>0.000000</td>\n",
       "      <td>31.525000</td>\n",
       "      <td>3182.540911</td>\n",
       "      <td>121.002500</td>\n",
       "      <td>0.000000</td>\n",
       "    </tr>\n",
       "    <tr>\n",
       "      <th>50%</th>\n",
       "      <td>1.069887e+06</td>\n",
       "      <td>6250.000000</td>\n",
       "      <td>12.690000</td>\n",
       "      <td>166.475000</td>\n",
       "      <td>47502.000000</td>\n",
       "      <td>1.000000</td>\n",
       "      <td>61.300000</td>\n",
       "      <td>6512.785633</td>\n",
       "      <td>315.560000</td>\n",
       "      <td>0.000000</td>\n",
       "    </tr>\n",
       "    <tr>\n",
       "      <th>75%</th>\n",
       "      <td>1.072857e+06</td>\n",
       "      <td>10000.000000</td>\n",
       "      <td>15.270000</td>\n",
       "      <td>330.760000</td>\n",
       "      <td>75596.297500</td>\n",
       "      <td>2.000000</td>\n",
       "      <td>85.600000</td>\n",
       "      <td>11627.872892</td>\n",
       "      <td>662.865000</td>\n",
       "      <td>1.000000</td>\n",
       "    </tr>\n",
       "    <tr>\n",
       "      <th>max</th>\n",
       "      <td>1.077501e+06</td>\n",
       "      <td>21000.000000</td>\n",
       "      <td>21.280000</td>\n",
       "      <td>701.730000</td>\n",
       "      <td>110000.000000</td>\n",
       "      <td>5.000000</td>\n",
       "      <td>98.500000</td>\n",
       "      <td>27663.042670</td>\n",
       "      <td>8061.100000</td>\n",
       "      <td>1.000000</td>\n",
       "    </tr>\n",
       "  </tbody>\n",
       "</table>\n",
       "</div>"
      ],
      "text/plain": [
       "                 id     loan_amnt   int_rate  installment     annual_inc  \\\n",
       "count  2.400000e+01     24.000000  24.000000    24.000000      24.000000   \n",
       "mean   1.069761e+06   7517.708333  13.015000   230.289167   52633.799583   \n",
       "std    7.606441e+03   5085.318164   3.591979   158.804054   28836.832912   \n",
       "min    1.039153e+06   1000.000000   6.030000    35.310000   12252.000000   \n",
       "25%    1.069685e+06   3450.000000  11.445000   109.535000   30000.000000   \n",
       "50%    1.069887e+06   6250.000000  12.690000   166.475000   47502.000000   \n",
       "75%    1.072857e+06  10000.000000  15.270000   330.760000   75596.297500   \n",
       "max    1.077501e+06  21000.000000  21.280000   701.730000  110000.000000   \n",
       "\n",
       "       inq_last_6mths  revol_util   total_pymnt  last_pymnt_amnt  loan_status  \n",
       "count       24.000000   24.000000     24.000000        24.000000    24.000000  \n",
       "mean         1.250000   58.067917   7472.457372      1328.046250     0.333333  \n",
       "std          1.293798   29.600420   6104.020103      2359.096244     0.481543  \n",
       "min          0.000000    9.400000    646.020000        16.980000     0.000000  \n",
       "25%          0.000000   31.525000   3182.540911       121.002500     0.000000  \n",
       "50%          1.000000   61.300000   6512.785633       315.560000     0.000000  \n",
       "75%          2.000000   85.600000  11627.872892       662.865000     1.000000  \n",
       "max          5.000000   98.500000  27663.042670      8061.100000     1.000000  "
      ]
     },
     "execution_count": 4,
     "metadata": {},
     "output_type": "execute_result"
    }
   ],
   "source": [
    "df.describe()"
   ]
  },
  {
   "cell_type": "code",
   "execution_count": 5,
   "metadata": {},
   "outputs": [
    {
     "name": "stdout",
     "output_type": "stream",
     "text": [
      "<class 'pandas.core.frame.DataFrame'>\n",
      "RangeIndex: 24 entries, 0 to 23\n",
      "Data columns (total 17 columns):\n",
      " #   Column           Non-Null Count  Dtype  \n",
      "---  ------           --------------  -----  \n",
      " 0   id               24 non-null     int64  \n",
      " 1   loan_amnt        24 non-null     int64  \n",
      " 2   term             24 non-null     object \n",
      " 3   int_rate         24 non-null     float64\n",
      " 4   installment      24 non-null     float64\n",
      " 5   grade            24 non-null     object \n",
      " 6   emp_length       24 non-null     object \n",
      " 7   home_ownership   24 non-null     object \n",
      " 8   annual_inc       24 non-null     float64\n",
      " 9   purpose          24 non-null     object \n",
      " 10  addr_state       24 non-null     object \n",
      " 11  inq_last_6mths   24 non-null     int64  \n",
      " 12  revol_util       24 non-null     float64\n",
      " 13  total_pymnt      24 non-null     float64\n",
      " 14  last_pymnt_d     24 non-null     object \n",
      " 15  last_pymnt_amnt  24 non-null     float64\n",
      " 16  loan_status      24 non-null     int64  \n",
      "dtypes: float64(6), int64(4), object(7)\n",
      "memory usage: 3.3+ KB\n"
     ]
    }
   ],
   "source": [
    "df.info()"
   ]
  },
  {
   "cell_type": "code",
   "execution_count": 6,
   "metadata": {},
   "outputs": [],
   "source": [
    "df.rename(columns={'term':'term_months'},inplace=True)"
   ]
  },
  {
   "cell_type": "code",
   "execution_count": 7,
   "metadata": {},
   "outputs": [],
   "source": [
    "df.rename(columns={'emp_length':'emp_length_years'},inplace=True)"
   ]
  },
  {
   "cell_type": "code",
   "execution_count": 8,
   "metadata": {},
   "outputs": [
    {
     "data": {
      "text/plain": [
       "Index(['id', 'loan_amnt', 'term_months', 'int_rate', 'installment', 'grade',\n",
       "       'emp_length_years', 'home_ownership', 'annual_inc', 'purpose',\n",
       "       'addr_state', 'inq_last_6mths', 'revol_util', 'total_pymnt',\n",
       "       'last_pymnt_d', 'last_pymnt_amnt', 'loan_status'],\n",
       "      dtype='object')"
      ]
     },
     "execution_count": 8,
     "metadata": {},
     "output_type": "execute_result"
    }
   ],
   "source": [
    "df.columns"
   ]
  },
  {
   "cell_type": "code",
   "execution_count": 9,
   "metadata": {},
   "outputs": [],
   "source": [
    "df1=df.term_months.apply(lambda x:x.replace('months',''))"
   ]
  },
  {
   "cell_type": "code",
   "execution_count": 10,
   "metadata": {},
   "outputs": [],
   "source": [
    "df['term_Nmonths']=df1"
   ]
  },
  {
   "cell_type": "code",
   "execution_count": 11,
   "metadata": {},
   "outputs": [],
   "source": [
    "df.drop('term_months',axis=1,inplace=True)"
   ]
  },
  {
   "cell_type": "code",
   "execution_count": 12,
   "metadata": {},
   "outputs": [
    {
     "data": {
      "text/plain": [
       "0     10+ s\n",
       "1      < 1 \n",
       "2     10+ s\n",
       "3     10+ s\n",
       "4        1 \n",
       "5       3 s\n",
       "6       8 s\n",
       "7       9 s\n",
       "8       4 s\n",
       "9      < 1 \n",
       "10      5 s\n",
       "11    10+ s\n",
       "12     < 1 \n",
       "13      3 s\n",
       "14      3 s\n",
       "15     < 1 \n",
       "16      4 s\n",
       "17    10+ s\n",
       "18       1 \n",
       "19      6 s\n",
       "20      3 s\n",
       "21    10+ s\n",
       "22    10+ s\n",
       "23      5 s\n",
       "Name: emp_length_years, dtype: object"
      ]
     },
     "execution_count": 12,
     "metadata": {},
     "output_type": "execute_result"
    }
   ],
   "source": [
    "df2=df.emp_length_years.apply(lambda x:x.replace('year',''))\n",
    "df2"
   ]
  },
  {
   "cell_type": "code",
   "execution_count": 13,
   "metadata": {},
   "outputs": [
    {
     "data": {
      "text/plain": [
       "0     10+ \n",
       "1     < 1 \n",
       "2     10+ \n",
       "3     10+ \n",
       "4       1 \n",
       "5       3 \n",
       "6       8 \n",
       "7       9 \n",
       "8       4 \n",
       "9     < 1 \n",
       "10      5 \n",
       "11    10+ \n",
       "12    < 1 \n",
       "13      3 \n",
       "14      3 \n",
       "15    < 1 \n",
       "16      4 \n",
       "17    10+ \n",
       "18      1 \n",
       "19      6 \n",
       "20      3 \n",
       "21    10+ \n",
       "22    10+ \n",
       "23      5 \n",
       "Name: emp_length_years, dtype: object"
      ]
     },
     "execution_count": 13,
     "metadata": {},
     "output_type": "execute_result"
    }
   ],
   "source": [
    "df3=df2.apply(lambda x:x.replace('s',''))\n",
    "df3"
   ]
  },
  {
   "cell_type": "code",
   "execution_count": 14,
   "metadata": {},
   "outputs": [
    {
     "data": {
      "text/plain": [
       "0      10 \n",
       "1     < 1 \n",
       "2      10 \n",
       "3      10 \n",
       "4       1 \n",
       "5       3 \n",
       "6       8 \n",
       "7       9 \n",
       "8       4 \n",
       "9     < 1 \n",
       "10      5 \n",
       "11     10 \n",
       "12    < 1 \n",
       "13      3 \n",
       "14      3 \n",
       "15    < 1 \n",
       "16      4 \n",
       "17     10 \n",
       "18      1 \n",
       "19      6 \n",
       "20      3 \n",
       "21     10 \n",
       "22     10 \n",
       "23      5 \n",
       "Name: emp_length_years, dtype: object"
      ]
     },
     "execution_count": 14,
     "metadata": {},
     "output_type": "execute_result"
    }
   ],
   "source": [
    "df4=df3.apply(lambda x:x.replace('+',''))\n",
    "df4"
   ]
  },
  {
   "cell_type": "code",
   "execution_count": 15,
   "metadata": {},
   "outputs": [
    {
     "data": {
      "text/plain": [
       "0     10 \n",
       "1     .5 \n",
       "2     10 \n",
       "3     10 \n",
       "4      1 \n",
       "5      3 \n",
       "6      8 \n",
       "7      9 \n",
       "8      4 \n",
       "9     .5 \n",
       "10     5 \n",
       "11    10 \n",
       "12    .5 \n",
       "13     3 \n",
       "14     3 \n",
       "15    .5 \n",
       "16     4 \n",
       "17    10 \n",
       "18     1 \n",
       "19     6 \n",
       "20     3 \n",
       "21    10 \n",
       "22    10 \n",
       "23     5 \n",
       "Name: emp_length_years, dtype: object"
      ]
     },
     "execution_count": 15,
     "metadata": {},
     "output_type": "execute_result"
    }
   ],
   "source": [
    "df5=df4.apply(lambda x:x.replace('< 1','.5'))\n",
    "df5"
   ]
  },
  {
   "cell_type": "code",
   "execution_count": 16,
   "metadata": {},
   "outputs": [],
   "source": [
    "df['emp_length_Nyears']=df5"
   ]
  },
  {
   "cell_type": "code",
   "execution_count": 17,
   "metadata": {},
   "outputs": [],
   "source": [
    "df.drop('emp_length_years',axis=1,inplace=True)"
   ]
  },
  {
   "cell_type": "code",
   "execution_count": 18,
   "metadata": {},
   "outputs": [
    {
     "data": {
      "text/html": [
       "<div>\n",
       "<style scoped>\n",
       "    .dataframe tbody tr th:only-of-type {\n",
       "        vertical-align: middle;\n",
       "    }\n",
       "\n",
       "    .dataframe tbody tr th {\n",
       "        vertical-align: top;\n",
       "    }\n",
       "\n",
       "    .dataframe thead th {\n",
       "        text-align: right;\n",
       "    }\n",
       "</style>\n",
       "<table border=\"1\" class=\"dataframe\">\n",
       "  <thead>\n",
       "    <tr style=\"text-align: right;\">\n",
       "      <th></th>\n",
       "      <th>id</th>\n",
       "      <th>loan_amnt</th>\n",
       "      <th>int_rate</th>\n",
       "      <th>installment</th>\n",
       "      <th>grade</th>\n",
       "      <th>home_ownership</th>\n",
       "      <th>annual_inc</th>\n",
       "      <th>purpose</th>\n",
       "      <th>addr_state</th>\n",
       "      <th>inq_last_6mths</th>\n",
       "      <th>revol_util</th>\n",
       "      <th>total_pymnt</th>\n",
       "      <th>last_pymnt_d</th>\n",
       "      <th>last_pymnt_amnt</th>\n",
       "      <th>loan_status</th>\n",
       "      <th>term_Nmonths</th>\n",
       "      <th>emp_length_Nyears</th>\n",
       "    </tr>\n",
       "  </thead>\n",
       "  <tbody>\n",
       "    <tr>\n",
       "      <th>0</th>\n",
       "      <td>1077501</td>\n",
       "      <td>5000</td>\n",
       "      <td>10.65</td>\n",
       "      <td>162.87</td>\n",
       "      <td>B</td>\n",
       "      <td>RENT</td>\n",
       "      <td>24000.0</td>\n",
       "      <td>credit_card</td>\n",
       "      <td>AZ</td>\n",
       "      <td>1</td>\n",
       "      <td>83.7</td>\n",
       "      <td>5861.071414</td>\n",
       "      <td>Jan-15</td>\n",
       "      <td>171.62</td>\n",
       "      <td>0</td>\n",
       "      <td>36</td>\n",
       "      <td>10</td>\n",
       "    </tr>\n",
       "    <tr>\n",
       "      <th>1</th>\n",
       "      <td>1077430</td>\n",
       "      <td>2500</td>\n",
       "      <td>15.27</td>\n",
       "      <td>59.83</td>\n",
       "      <td>C</td>\n",
       "      <td>RENT</td>\n",
       "      <td>30000.0</td>\n",
       "      <td>car</td>\n",
       "      <td>GA</td>\n",
       "      <td>5</td>\n",
       "      <td>9.4</td>\n",
       "      <td>1008.710000</td>\n",
       "      <td>Apr-13</td>\n",
       "      <td>119.66</td>\n",
       "      <td>1</td>\n",
       "      <td>60</td>\n",
       "      <td>.5</td>\n",
       "    </tr>\n",
       "    <tr>\n",
       "      <th>2</th>\n",
       "      <td>1077175</td>\n",
       "      <td>2400</td>\n",
       "      <td>15.96</td>\n",
       "      <td>84.33</td>\n",
       "      <td>C</td>\n",
       "      <td>RENT</td>\n",
       "      <td>12252.0</td>\n",
       "      <td>small_business</td>\n",
       "      <td>IL</td>\n",
       "      <td>2</td>\n",
       "      <td>98.5</td>\n",
       "      <td>3003.653644</td>\n",
       "      <td>Jun-14</td>\n",
       "      <td>649.91</td>\n",
       "      <td>0</td>\n",
       "      <td>36</td>\n",
       "      <td>10</td>\n",
       "    </tr>\n",
       "    <tr>\n",
       "      <th>3</th>\n",
       "      <td>1076863</td>\n",
       "      <td>10000</td>\n",
       "      <td>13.49</td>\n",
       "      <td>339.31</td>\n",
       "      <td>C</td>\n",
       "      <td>RENT</td>\n",
       "      <td>49200.0</td>\n",
       "      <td>other</td>\n",
       "      <td>CA</td>\n",
       "      <td>1</td>\n",
       "      <td>21.0</td>\n",
       "      <td>12226.302210</td>\n",
       "      <td>Jan-15</td>\n",
       "      <td>357.48</td>\n",
       "      <td>0</td>\n",
       "      <td>36</td>\n",
       "      <td>10</td>\n",
       "    </tr>\n",
       "    <tr>\n",
       "      <th>4</th>\n",
       "      <td>1075358</td>\n",
       "      <td>3000</td>\n",
       "      <td>12.69</td>\n",
       "      <td>67.79</td>\n",
       "      <td>B</td>\n",
       "      <td>RENT</td>\n",
       "      <td>80000.0</td>\n",
       "      <td>other</td>\n",
       "      <td>OR</td>\n",
       "      <td>0</td>\n",
       "      <td>53.9</td>\n",
       "      <td>3242.170000</td>\n",
       "      <td>Jan-16</td>\n",
       "      <td>67.79</td>\n",
       "      <td>1</td>\n",
       "      <td>60</td>\n",
       "      <td>1</td>\n",
       "    </tr>\n",
       "  </tbody>\n",
       "</table>\n",
       "</div>"
      ],
      "text/plain": [
       "        id  loan_amnt  int_rate  installment grade home_ownership  annual_inc  \\\n",
       "0  1077501       5000     10.65       162.87     B           RENT     24000.0   \n",
       "1  1077430       2500     15.27        59.83     C           RENT     30000.0   \n",
       "2  1077175       2400     15.96        84.33     C           RENT     12252.0   \n",
       "3  1076863      10000     13.49       339.31     C           RENT     49200.0   \n",
       "4  1075358       3000     12.69        67.79     B           RENT     80000.0   \n",
       "\n",
       "          purpose addr_state  inq_last_6mths  revol_util   total_pymnt  \\\n",
       "0     credit_card         AZ               1        83.7   5861.071414   \n",
       "1             car         GA               5         9.4   1008.710000   \n",
       "2  small_business         IL               2        98.5   3003.653644   \n",
       "3           other         CA               1        21.0  12226.302210   \n",
       "4           other         OR               0        53.9   3242.170000   \n",
       "\n",
       "  last_pymnt_d  last_pymnt_amnt  loan_status term_Nmonths emp_length_Nyears  \n",
       "0       Jan-15           171.62            0          36                10   \n",
       "1       Apr-13           119.66            1          60                .5   \n",
       "2       Jun-14           649.91            0          36                10   \n",
       "3       Jan-15           357.48            0          36                10   \n",
       "4       Jan-16            67.79            1          60                 1   "
      ]
     },
     "execution_count": 18,
     "metadata": {},
     "output_type": "execute_result"
    }
   ],
   "source": [
    "df.head()"
   ]
  },
  {
   "cell_type": "code",
   "execution_count": 19,
   "metadata": {},
   "outputs": [
    {
     "data": {
      "text/plain": [
       "Index(['id', 'loan_amnt', 'int_rate', 'installment', 'grade', 'home_ownership',\n",
       "       'annual_inc', 'purpose', 'addr_state', 'inq_last_6mths', 'revol_util',\n",
       "       'total_pymnt', 'last_pymnt_d', 'last_pymnt_amnt', 'loan_status',\n",
       "       'term_Nmonths', 'emp_length_Nyears'],\n",
       "      dtype='object')"
      ]
     },
     "execution_count": 19,
     "metadata": {},
     "output_type": "execute_result"
    }
   ],
   "source": [
    "df.columns"
   ]
  },
  {
   "cell_type": "code",
   "execution_count": 20,
   "metadata": {},
   "outputs": [],
   "source": [
    "df.drop(['id', 'purpose','addr_state','last_pymnt_d'],axis=1,inplace=True)"
   ]
  },
  {
   "cell_type": "code",
   "execution_count": 21,
   "metadata": {},
   "outputs": [
    {
     "data": {
      "text/html": [
       "<div>\n",
       "<style scoped>\n",
       "    .dataframe tbody tr th:only-of-type {\n",
       "        vertical-align: middle;\n",
       "    }\n",
       "\n",
       "    .dataframe tbody tr th {\n",
       "        vertical-align: top;\n",
       "    }\n",
       "\n",
       "    .dataframe thead th {\n",
       "        text-align: right;\n",
       "    }\n",
       "</style>\n",
       "<table border=\"1\" class=\"dataframe\">\n",
       "  <thead>\n",
       "    <tr style=\"text-align: right;\">\n",
       "      <th></th>\n",
       "      <th>loan_amnt</th>\n",
       "      <th>int_rate</th>\n",
       "      <th>installment</th>\n",
       "      <th>grade</th>\n",
       "      <th>home_ownership</th>\n",
       "      <th>annual_inc</th>\n",
       "      <th>inq_last_6mths</th>\n",
       "      <th>revol_util</th>\n",
       "      <th>total_pymnt</th>\n",
       "      <th>last_pymnt_amnt</th>\n",
       "      <th>loan_status</th>\n",
       "      <th>term_Nmonths</th>\n",
       "      <th>emp_length_Nyears</th>\n",
       "    </tr>\n",
       "  </thead>\n",
       "  <tbody>\n",
       "    <tr>\n",
       "      <th>0</th>\n",
       "      <td>5000</td>\n",
       "      <td>10.65</td>\n",
       "      <td>162.87</td>\n",
       "      <td>B</td>\n",
       "      <td>RENT</td>\n",
       "      <td>24000.0</td>\n",
       "      <td>1</td>\n",
       "      <td>83.7</td>\n",
       "      <td>5861.071414</td>\n",
       "      <td>171.62</td>\n",
       "      <td>0</td>\n",
       "      <td>36</td>\n",
       "      <td>10</td>\n",
       "    </tr>\n",
       "    <tr>\n",
       "      <th>1</th>\n",
       "      <td>2500</td>\n",
       "      <td>15.27</td>\n",
       "      <td>59.83</td>\n",
       "      <td>C</td>\n",
       "      <td>RENT</td>\n",
       "      <td>30000.0</td>\n",
       "      <td>5</td>\n",
       "      <td>9.4</td>\n",
       "      <td>1008.710000</td>\n",
       "      <td>119.66</td>\n",
       "      <td>1</td>\n",
       "      <td>60</td>\n",
       "      <td>.5</td>\n",
       "    </tr>\n",
       "    <tr>\n",
       "      <th>2</th>\n",
       "      <td>2400</td>\n",
       "      <td>15.96</td>\n",
       "      <td>84.33</td>\n",
       "      <td>C</td>\n",
       "      <td>RENT</td>\n",
       "      <td>12252.0</td>\n",
       "      <td>2</td>\n",
       "      <td>98.5</td>\n",
       "      <td>3003.653644</td>\n",
       "      <td>649.91</td>\n",
       "      <td>0</td>\n",
       "      <td>36</td>\n",
       "      <td>10</td>\n",
       "    </tr>\n",
       "    <tr>\n",
       "      <th>3</th>\n",
       "      <td>10000</td>\n",
       "      <td>13.49</td>\n",
       "      <td>339.31</td>\n",
       "      <td>C</td>\n",
       "      <td>RENT</td>\n",
       "      <td>49200.0</td>\n",
       "      <td>1</td>\n",
       "      <td>21.0</td>\n",
       "      <td>12226.302210</td>\n",
       "      <td>357.48</td>\n",
       "      <td>0</td>\n",
       "      <td>36</td>\n",
       "      <td>10</td>\n",
       "    </tr>\n",
       "    <tr>\n",
       "      <th>4</th>\n",
       "      <td>3000</td>\n",
       "      <td>12.69</td>\n",
       "      <td>67.79</td>\n",
       "      <td>B</td>\n",
       "      <td>RENT</td>\n",
       "      <td>80000.0</td>\n",
       "      <td>0</td>\n",
       "      <td>53.9</td>\n",
       "      <td>3242.170000</td>\n",
       "      <td>67.79</td>\n",
       "      <td>1</td>\n",
       "      <td>60</td>\n",
       "      <td>1</td>\n",
       "    </tr>\n",
       "  </tbody>\n",
       "</table>\n",
       "</div>"
      ],
      "text/plain": [
       "   loan_amnt  int_rate  installment grade home_ownership  annual_inc  \\\n",
       "0       5000     10.65       162.87     B           RENT     24000.0   \n",
       "1       2500     15.27        59.83     C           RENT     30000.0   \n",
       "2       2400     15.96        84.33     C           RENT     12252.0   \n",
       "3      10000     13.49       339.31     C           RENT     49200.0   \n",
       "4       3000     12.69        67.79     B           RENT     80000.0   \n",
       "\n",
       "   inq_last_6mths  revol_util   total_pymnt  last_pymnt_amnt  loan_status  \\\n",
       "0               1        83.7   5861.071414           171.62            0   \n",
       "1               5         9.4   1008.710000           119.66            1   \n",
       "2               2        98.5   3003.653644           649.91            0   \n",
       "3               1        21.0  12226.302210           357.48            0   \n",
       "4               0        53.9   3242.170000            67.79            1   \n",
       "\n",
       "  term_Nmonths emp_length_Nyears  \n",
       "0          36                10   \n",
       "1          60                .5   \n",
       "2          36                10   \n",
       "3          36                10   \n",
       "4          60                 1   "
      ]
     },
     "execution_count": 21,
     "metadata": {},
     "output_type": "execute_result"
    }
   ],
   "source": [
    "df.head()"
   ]
  },
  {
   "cell_type": "code",
   "execution_count": 22,
   "metadata": {},
   "outputs": [
    {
     "data": {
      "text/plain": [
       "<matplotlib.axes._subplots.AxesSubplot at 0x8e51a88>"
      ]
     },
     "execution_count": 22,
     "metadata": {},
     "output_type": "execute_result"
    },
    {
     "data": {
      "image/png": "[encoded data removed]",
      "text/plain": [
       "<Figure size 432x288 with 1 Axes>"
      ]
     },
     "metadata": {
      "needs_background": "light"
     },
     "output_type": "display_data"
    }
   ],
   "source": [
    "sns.countplot(x='grade',data=df,hue='loan_status')"
   ]
  },
  {
   "cell_type": "code",
   "execution_count": 23,
   "metadata": {},
   "outputs": [
    {
     "data": {
      "text/plain": [
       "<matplotlib.axes._subplots.AxesSubplot at 0xbc97488>"
      ]
     },
     "execution_count": 23,
     "metadata": {},
     "output_type": "execute_result"
    },
    {
     "data": {
      "image/png": "[encoded data removed]",
      "text/plain": [
       "<Figure size 432x288 with 1 Axes>"
      ]
     },
     "metadata": {
      "needs_background": "light"
     },
     "output_type": "display_data"
    }
   ],
   "source": [
    "sns.countplot(x='home_ownership',data=df,hue='loan_status')"
   ]
  },
  {
   "cell_type": "code",
   "execution_count": 24,
   "metadata": {},
   "outputs": [
    {
     "data": {
      "text/html": [
       "<div>\n",
       "<style scoped>\n",
       "    .dataframe tbody tr th:only-of-type {\n",
       "        vertical-align: middle;\n",
       "    }\n",
       "\n",
       "    .dataframe tbody tr th {\n",
       "        vertical-align: top;\n",
       "    }\n",
       "\n",
       "    .dataframe thead th {\n",
       "        text-align: right;\n",
       "    }\n",
       "</style>\n",
       "<table border=\"1\" class=\"dataframe\">\n",
       "  <thead>\n",
       "    <tr style=\"text-align: right;\">\n",
       "      <th></th>\n",
       "      <th>A</th>\n",
       "      <th>B</th>\n",
       "      <th>C</th>\n",
       "      <th>D</th>\n",
       "      <th>E</th>\n",
       "      <th>F</th>\n",
       "    </tr>\n",
       "  </thead>\n",
       "  <tbody>\n",
       "    <tr>\n",
       "      <th>0</th>\n",
       "      <td>0</td>\n",
       "      <td>1</td>\n",
       "      <td>0</td>\n",
       "      <td>0</td>\n",
       "      <td>0</td>\n",
       "      <td>0</td>\n",
       "    </tr>\n",
       "    <tr>\n",
       "      <th>1</th>\n",
       "      <td>0</td>\n",
       "      <td>0</td>\n",
       "      <td>1</td>\n",
       "      <td>0</td>\n",
       "      <td>0</td>\n",
       "      <td>0</td>\n",
       "    </tr>\n",
       "    <tr>\n",
       "      <th>2</th>\n",
       "      <td>0</td>\n",
       "      <td>0</td>\n",
       "      <td>1</td>\n",
       "      <td>0</td>\n",
       "      <td>0</td>\n",
       "      <td>0</td>\n",
       "    </tr>\n",
       "    <tr>\n",
       "      <th>3</th>\n",
       "      <td>0</td>\n",
       "      <td>0</td>\n",
       "      <td>1</td>\n",
       "      <td>0</td>\n",
       "      <td>0</td>\n",
       "      <td>0</td>\n",
       "    </tr>\n",
       "    <tr>\n",
       "      <th>4</th>\n",
       "      <td>0</td>\n",
       "      <td>1</td>\n",
       "      <td>0</td>\n",
       "      <td>0</td>\n",
       "      <td>0</td>\n",
       "      <td>0</td>\n",
       "    </tr>\n",
       "    <tr>\n",
       "      <th>5</th>\n",
       "      <td>1</td>\n",
       "      <td>0</td>\n",
       "      <td>0</td>\n",
       "      <td>0</td>\n",
       "      <td>0</td>\n",
       "      <td>0</td>\n",
       "    </tr>\n",
       "    <tr>\n",
       "      <th>6</th>\n",
       "      <td>0</td>\n",
       "      <td>0</td>\n",
       "      <td>1</td>\n",
       "      <td>0</td>\n",
       "      <td>0</td>\n",
       "      <td>0</td>\n",
       "    </tr>\n",
       "    <tr>\n",
       "      <th>7</th>\n",
       "      <td>0</td>\n",
       "      <td>0</td>\n",
       "      <td>0</td>\n",
       "      <td>0</td>\n",
       "      <td>1</td>\n",
       "      <td>0</td>\n",
       "    </tr>\n",
       "    <tr>\n",
       "      <th>8</th>\n",
       "      <td>0</td>\n",
       "      <td>0</td>\n",
       "      <td>0</td>\n",
       "      <td>0</td>\n",
       "      <td>0</td>\n",
       "      <td>1</td>\n",
       "    </tr>\n",
       "    <tr>\n",
       "      <th>9</th>\n",
       "      <td>0</td>\n",
       "      <td>1</td>\n",
       "      <td>0</td>\n",
       "      <td>0</td>\n",
       "      <td>0</td>\n",
       "      <td>0</td>\n",
       "    </tr>\n",
       "    <tr>\n",
       "      <th>10</th>\n",
       "      <td>0</td>\n",
       "      <td>0</td>\n",
       "      <td>1</td>\n",
       "      <td>0</td>\n",
       "      <td>0</td>\n",
       "      <td>0</td>\n",
       "    </tr>\n",
       "    <tr>\n",
       "      <th>11</th>\n",
       "      <td>0</td>\n",
       "      <td>1</td>\n",
       "      <td>0</td>\n",
       "      <td>0</td>\n",
       "      <td>0</td>\n",
       "      <td>0</td>\n",
       "    </tr>\n",
       "    <tr>\n",
       "      <th>12</th>\n",
       "      <td>0</td>\n",
       "      <td>0</td>\n",
       "      <td>1</td>\n",
       "      <td>0</td>\n",
       "      <td>0</td>\n",
       "      <td>0</td>\n",
       "    </tr>\n",
       "    <tr>\n",
       "      <th>13</th>\n",
       "      <td>0</td>\n",
       "      <td>1</td>\n",
       "      <td>0</td>\n",
       "      <td>0</td>\n",
       "      <td>0</td>\n",
       "      <td>0</td>\n",
       "    </tr>\n",
       "    <tr>\n",
       "      <th>14</th>\n",
       "      <td>0</td>\n",
       "      <td>1</td>\n",
       "      <td>0</td>\n",
       "      <td>0</td>\n",
       "      <td>0</td>\n",
       "      <td>0</td>\n",
       "    </tr>\n",
       "    <tr>\n",
       "      <th>15</th>\n",
       "      <td>0</td>\n",
       "      <td>0</td>\n",
       "      <td>0</td>\n",
       "      <td>1</td>\n",
       "      <td>0</td>\n",
       "      <td>0</td>\n",
       "    </tr>\n",
       "    <tr>\n",
       "      <th>16</th>\n",
       "      <td>0</td>\n",
       "      <td>0</td>\n",
       "      <td>1</td>\n",
       "      <td>0</td>\n",
       "      <td>0</td>\n",
       "      <td>0</td>\n",
       "    </tr>\n",
       "    <tr>\n",
       "      <th>17</th>\n",
       "      <td>1</td>\n",
       "      <td>0</td>\n",
       "      <td>0</td>\n",
       "      <td>0</td>\n",
       "      <td>0</td>\n",
       "      <td>0</td>\n",
       "    </tr>\n",
       "    <tr>\n",
       "      <th>18</th>\n",
       "      <td>0</td>\n",
       "      <td>1</td>\n",
       "      <td>0</td>\n",
       "      <td>0</td>\n",
       "      <td>0</td>\n",
       "      <td>0</td>\n",
       "    </tr>\n",
       "    <tr>\n",
       "      <th>19</th>\n",
       "      <td>1</td>\n",
       "      <td>0</td>\n",
       "      <td>0</td>\n",
       "      <td>0</td>\n",
       "      <td>0</td>\n",
       "      <td>0</td>\n",
       "    </tr>\n",
       "    <tr>\n",
       "      <th>20</th>\n",
       "      <td>0</td>\n",
       "      <td>0</td>\n",
       "      <td>1</td>\n",
       "      <td>0</td>\n",
       "      <td>0</td>\n",
       "      <td>0</td>\n",
       "    </tr>\n",
       "    <tr>\n",
       "      <th>21</th>\n",
       "      <td>0</td>\n",
       "      <td>1</td>\n",
       "      <td>0</td>\n",
       "      <td>0</td>\n",
       "      <td>0</td>\n",
       "      <td>0</td>\n",
       "    </tr>\n",
       "    <tr>\n",
       "      <th>22</th>\n",
       "      <td>0</td>\n",
       "      <td>1</td>\n",
       "      <td>0</td>\n",
       "      <td>0</td>\n",
       "      <td>0</td>\n",
       "      <td>0</td>\n",
       "    </tr>\n",
       "    <tr>\n",
       "      <th>23</th>\n",
       "      <td>0</td>\n",
       "      <td>1</td>\n",
       "      <td>0</td>\n",
       "      <td>0</td>\n",
       "      <td>0</td>\n",
       "      <td>0</td>\n",
       "    </tr>\n",
       "  </tbody>\n",
       "</table>\n",
       "</div>"
      ],
      "text/plain": [
       "    A  B  C  D  E  F\n",
       "0   0  1  0  0  0  0\n",
       "1   0  0  1  0  0  0\n",
       "2   0  0  1  0  0  0\n",
       "3   0  0  1  0  0  0\n",
       "4   0  1  0  0  0  0\n",
       "5   1  0  0  0  0  0\n",
       "6   0  0  1  0  0  0\n",
       "7   0  0  0  0  1  0\n",
       "8   0  0  0  0  0  1\n",
       "9   0  1  0  0  0  0\n",
       "10  0  0  1  0  0  0\n",
       "11  0  1  0  0  0  0\n",
       "12  0  0  1  0  0  0\n",
       "13  0  1  0  0  0  0\n",
       "14  0  1  0  0  0  0\n",
       "15  0  0  0  1  0  0\n",
       "16  0  0  1  0  0  0\n",
       "17  1  0  0  0  0  0\n",
       "18  0  1  0  0  0  0\n",
       "19  1  0  0  0  0  0\n",
       "20  0  0  1  0  0  0\n",
       "21  0  1  0  0  0  0\n",
       "22  0  1  0  0  0  0\n",
       "23  0  1  0  0  0  0"
      ]
     },
     "execution_count": 24,
     "metadata": {},
     "output_type": "execute_result"
    }
   ],
   "source": [
    "df6=pd.get_dummies(df.grade)\n",
    "df6"
   ]
  },
  {
   "cell_type": "code",
   "execution_count": 25,
   "metadata": {},
   "outputs": [
    {
     "data": {
      "text/html": [
       "<div>\n",
       "<style scoped>\n",
       "    .dataframe tbody tr th:only-of-type {\n",
       "        vertical-align: middle;\n",
       "    }\n",
       "\n",
       "    .dataframe tbody tr th {\n",
       "        vertical-align: top;\n",
       "    }\n",
       "\n",
       "    .dataframe thead th {\n",
       "        text-align: right;\n",
       "    }\n",
       "</style>\n",
       "<table border=\"1\" class=\"dataframe\">\n",
       "  <thead>\n",
       "    <tr style=\"text-align: right;\">\n",
       "      <th></th>\n",
       "      <th>loan_amnt</th>\n",
       "      <th>int_rate</th>\n",
       "      <th>installment</th>\n",
       "      <th>grade</th>\n",
       "      <th>home_ownership</th>\n",
       "      <th>annual_inc</th>\n",
       "      <th>inq_last_6mths</th>\n",
       "      <th>revol_util</th>\n",
       "      <th>total_pymnt</th>\n",
       "      <th>last_pymnt_amnt</th>\n",
       "      <th>loan_status</th>\n",
       "      <th>term_Nmonths</th>\n",
       "      <th>emp_length_Nyears</th>\n",
       "      <th>A</th>\n",
       "      <th>B</th>\n",
       "      <th>C</th>\n",
       "      <th>D</th>\n",
       "      <th>E</th>\n",
       "      <th>F</th>\n",
       "    </tr>\n",
       "  </thead>\n",
       "  <tbody>\n",
       "    <tr>\n",
       "      <th>0</th>\n",
       "      <td>5000</td>\n",
       "      <td>10.65</td>\n",
       "      <td>162.87</td>\n",
       "      <td>B</td>\n",
       "      <td>RENT</td>\n",
       "      <td>24000.0</td>\n",
       "      <td>1</td>\n",
       "      <td>83.7</td>\n",
       "      <td>5861.071414</td>\n",
       "      <td>171.62</td>\n",
       "      <td>0</td>\n",
       "      <td>36</td>\n",
       "      <td>10</td>\n",
       "      <td>0</td>\n",
       "      <td>1</td>\n",
       "      <td>0</td>\n",
       "      <td>0</td>\n",
       "      <td>0</td>\n",
       "      <td>0</td>\n",
       "    </tr>\n",
       "    <tr>\n",
       "      <th>1</th>\n",
       "      <td>2500</td>\n",
       "      <td>15.27</td>\n",
       "      <td>59.83</td>\n",
       "      <td>C</td>\n",
       "      <td>RENT</td>\n",
       "      <td>30000.0</td>\n",
       "      <td>5</td>\n",
       "      <td>9.4</td>\n",
       "      <td>1008.710000</td>\n",
       "      <td>119.66</td>\n",
       "      <td>1</td>\n",
       "      <td>60</td>\n",
       "      <td>.5</td>\n",
       "      <td>0</td>\n",
       "      <td>0</td>\n",
       "      <td>1</td>\n",
       "      <td>0</td>\n",
       "      <td>0</td>\n",
       "      <td>0</td>\n",
       "    </tr>\n",
       "    <tr>\n",
       "      <th>2</th>\n",
       "      <td>2400</td>\n",
       "      <td>15.96</td>\n",
       "      <td>84.33</td>\n",
       "      <td>C</td>\n",
       "      <td>RENT</td>\n",
       "      <td>12252.0</td>\n",
       "      <td>2</td>\n",
       "      <td>98.5</td>\n",
       "      <td>3003.653644</td>\n",
       "      <td>649.91</td>\n",
       "      <td>0</td>\n",
       "      <td>36</td>\n",
       "      <td>10</td>\n",
       "      <td>0</td>\n",
       "      <td>0</td>\n",
       "      <td>1</td>\n",
       "      <td>0</td>\n",
       "      <td>0</td>\n",
       "      <td>0</td>\n",
       "    </tr>\n",
       "    <tr>\n",
       "      <th>3</th>\n",
       "      <td>10000</td>\n",
       "      <td>13.49</td>\n",
       "      <td>339.31</td>\n",
       "      <td>C</td>\n",
       "      <td>RENT</td>\n",
       "      <td>49200.0</td>\n",
       "      <td>1</td>\n",
       "      <td>21.0</td>\n",
       "      <td>12226.302210</td>\n",
       "      <td>357.48</td>\n",
       "      <td>0</td>\n",
       "      <td>36</td>\n",
       "      <td>10</td>\n",
       "      <td>0</td>\n",
       "      <td>0</td>\n",
       "      <td>1</td>\n",
       "      <td>0</td>\n",
       "      <td>0</td>\n",
       "      <td>0</td>\n",
       "    </tr>\n",
       "    <tr>\n",
       "      <th>4</th>\n",
       "      <td>3000</td>\n",
       "      <td>12.69</td>\n",
       "      <td>67.79</td>\n",
       "      <td>B</td>\n",
       "      <td>RENT</td>\n",
       "      <td>80000.0</td>\n",
       "      <td>0</td>\n",
       "      <td>53.9</td>\n",
       "      <td>3242.170000</td>\n",
       "      <td>67.79</td>\n",
       "      <td>1</td>\n",
       "      <td>60</td>\n",
       "      <td>1</td>\n",
       "      <td>0</td>\n",
       "      <td>1</td>\n",
       "      <td>0</td>\n",
       "      <td>0</td>\n",
       "      <td>0</td>\n",
       "      <td>0</td>\n",
       "    </tr>\n",
       "  </tbody>\n",
       "</table>\n",
       "</div>"
      ],
      "text/plain": [
       "   loan_amnt  int_rate  installment grade home_ownership  annual_inc  \\\n",
       "0       5000     10.65       162.87     B           RENT     24000.0   \n",
       "1       2500     15.27        59.83     C           RENT     30000.0   \n",
       "2       2400     15.96        84.33     C           RENT     12252.0   \n",
       "3      10000     13.49       339.31     C           RENT     49200.0   \n",
       "4       3000     12.69        67.79     B           RENT     80000.0   \n",
       "\n",
       "   inq_last_6mths  revol_util   total_pymnt  last_pymnt_amnt  loan_status  \\\n",
       "0               1        83.7   5861.071414           171.62            0   \n",
       "1               5         9.4   1008.710000           119.66            1   \n",
       "2               2        98.5   3003.653644           649.91            0   \n",
       "3               1        21.0  12226.302210           357.48            0   \n",
       "4               0        53.9   3242.170000            67.79            1   \n",
       "\n",
       "  term_Nmonths emp_length_Nyears  A  B  C  D  E  F  \n",
       "0          36                10   0  1  0  0  0  0  \n",
       "1          60                .5   0  0  1  0  0  0  \n",
       "2          36                10   0  0  1  0  0  0  \n",
       "3          36                10   0  0  1  0  0  0  \n",
       "4          60                 1   0  1  0  0  0  0  "
      ]
     },
     "execution_count": 25,
     "metadata": {},
     "output_type": "execute_result"
    }
   ],
   "source": [
    "df=pd.concat([df,df6],axis=1)\n",
    "df.head()"
   ]
  },
  {
   "cell_type": "code",
   "execution_count": 26,
   "metadata": {},
   "outputs": [],
   "source": [
    "df.drop(['grade','A'],axis=1,inplace=True)"
   ]
  },
  {
   "cell_type": "code",
   "execution_count": 27,
   "metadata": {},
   "outputs": [
    {
     "data": {
      "text/html": [
       "<div>\n",
       "<style scoped>\n",
       "    .dataframe tbody tr th:only-of-type {\n",
       "        vertical-align: middle;\n",
       "    }\n",
       "\n",
       "    .dataframe tbody tr th {\n",
       "        vertical-align: top;\n",
       "    }\n",
       "\n",
       "    .dataframe thead th {\n",
       "        text-align: right;\n",
       "    }\n",
       "</style>\n",
       "<table border=\"1\" class=\"dataframe\">\n",
       "  <thead>\n",
       "    <tr style=\"text-align: right;\">\n",
       "      <th></th>\n",
       "      <th>loan_amnt</th>\n",
       "      <th>int_rate</th>\n",
       "      <th>installment</th>\n",
       "      <th>home_ownership</th>\n",
       "      <th>annual_inc</th>\n",
       "      <th>inq_last_6mths</th>\n",
       "      <th>revol_util</th>\n",
       "      <th>total_pymnt</th>\n",
       "      <th>last_pymnt_amnt</th>\n",
       "      <th>loan_status</th>\n",
       "      <th>term_Nmonths</th>\n",
       "      <th>emp_length_Nyears</th>\n",
       "      <th>B</th>\n",
       "      <th>C</th>\n",
       "      <th>D</th>\n",
       "      <th>E</th>\n",
       "      <th>F</th>\n",
       "    </tr>\n",
       "  </thead>\n",
       "  <tbody>\n",
       "    <tr>\n",
       "      <th>0</th>\n",
       "      <td>5000</td>\n",
       "      <td>10.65</td>\n",
       "      <td>162.87</td>\n",
       "      <td>RENT</td>\n",
       "      <td>24000.00</td>\n",
       "      <td>1</td>\n",
       "      <td>83.70</td>\n",
       "      <td>5861.071414</td>\n",
       "      <td>171.62</td>\n",
       "      <td>0</td>\n",
       "      <td>36</td>\n",
       "      <td>10</td>\n",
       "      <td>1</td>\n",
       "      <td>0</td>\n",
       "      <td>0</td>\n",
       "      <td>0</td>\n",
       "      <td>0</td>\n",
       "    </tr>\n",
       "    <tr>\n",
       "      <th>1</th>\n",
       "      <td>2500</td>\n",
       "      <td>15.27</td>\n",
       "      <td>59.83</td>\n",
       "      <td>RENT</td>\n",
       "      <td>30000.00</td>\n",
       "      <td>5</td>\n",
       "      <td>9.40</td>\n",
       "      <td>1008.710000</td>\n",
       "      <td>119.66</td>\n",
       "      <td>1</td>\n",
       "      <td>60</td>\n",
       "      <td>.5</td>\n",
       "      <td>0</td>\n",
       "      <td>1</td>\n",
       "      <td>0</td>\n",
       "      <td>0</td>\n",
       "      <td>0</td>\n",
       "    </tr>\n",
       "    <tr>\n",
       "      <th>2</th>\n",
       "      <td>2400</td>\n",
       "      <td>15.96</td>\n",
       "      <td>84.33</td>\n",
       "      <td>RENT</td>\n",
       "      <td>12252.00</td>\n",
       "      <td>2</td>\n",
       "      <td>98.50</td>\n",
       "      <td>3003.653644</td>\n",
       "      <td>649.91</td>\n",
       "      <td>0</td>\n",
       "      <td>36</td>\n",
       "      <td>10</td>\n",
       "      <td>0</td>\n",
       "      <td>1</td>\n",
       "      <td>0</td>\n",
       "      <td>0</td>\n",
       "      <td>0</td>\n",
       "    </tr>\n",
       "    <tr>\n",
       "      <th>3</th>\n",
       "      <td>10000</td>\n",
       "      <td>13.49</td>\n",
       "      <td>339.31</td>\n",
       "      <td>RENT</td>\n",
       "      <td>49200.00</td>\n",
       "      <td>1</td>\n",
       "      <td>21.00</td>\n",
       "      <td>12226.302210</td>\n",
       "      <td>357.48</td>\n",
       "      <td>0</td>\n",
       "      <td>36</td>\n",
       "      <td>10</td>\n",
       "      <td>0</td>\n",
       "      <td>1</td>\n",
       "      <td>0</td>\n",
       "      <td>0</td>\n",
       "      <td>0</td>\n",
       "    </tr>\n",
       "    <tr>\n",
       "      <th>4</th>\n",
       "      <td>3000</td>\n",
       "      <td>12.69</td>\n",
       "      <td>67.79</td>\n",
       "      <td>RENT</td>\n",
       "      <td>80000.00</td>\n",
       "      <td>0</td>\n",
       "      <td>53.90</td>\n",
       "      <td>3242.170000</td>\n",
       "      <td>67.79</td>\n",
       "      <td>1</td>\n",
       "      <td>60</td>\n",
       "      <td>1</td>\n",
       "      <td>1</td>\n",
       "      <td>0</td>\n",
       "      <td>0</td>\n",
       "      <td>0</td>\n",
       "      <td>0</td>\n",
       "    </tr>\n",
       "    <tr>\n",
       "      <th>5</th>\n",
       "      <td>5000</td>\n",
       "      <td>7.90</td>\n",
       "      <td>156.46</td>\n",
       "      <td>RENT</td>\n",
       "      <td>36000.00</td>\n",
       "      <td>3</td>\n",
       "      <td>28.30</td>\n",
       "      <td>5631.377753</td>\n",
       "      <td>161.03</td>\n",
       "      <td>0</td>\n",
       "      <td>36</td>\n",
       "      <td>3</td>\n",
       "      <td>0</td>\n",
       "      <td>0</td>\n",
       "      <td>0</td>\n",
       "      <td>0</td>\n",
       "      <td>0</td>\n",
       "    </tr>\n",
       "    <tr>\n",
       "      <th>6</th>\n",
       "      <td>7000</td>\n",
       "      <td>15.96</td>\n",
       "      <td>170.08</td>\n",
       "      <td>RENT</td>\n",
       "      <td>47004.00</td>\n",
       "      <td>1</td>\n",
       "      <td>85.60</td>\n",
       "      <td>8136.840000</td>\n",
       "      <td>170.08</td>\n",
       "      <td>1</td>\n",
       "      <td>60</td>\n",
       "      <td>8</td>\n",
       "      <td>0</td>\n",
       "      <td>1</td>\n",
       "      <td>0</td>\n",
       "      <td>0</td>\n",
       "      <td>0</td>\n",
       "    </tr>\n",
       "    <tr>\n",
       "      <th>7</th>\n",
       "      <td>3000</td>\n",
       "      <td>18.64</td>\n",
       "      <td>109.43</td>\n",
       "      <td>RENT</td>\n",
       "      <td>48000.00</td>\n",
       "      <td>2</td>\n",
       "      <td>87.50</td>\n",
       "      <td>3938.144334</td>\n",
       "      <td>111.34</td>\n",
       "      <td>0</td>\n",
       "      <td>36</td>\n",
       "      <td>9</td>\n",
       "      <td>0</td>\n",
       "      <td>0</td>\n",
       "      <td>0</td>\n",
       "      <td>1</td>\n",
       "      <td>0</td>\n",
       "    </tr>\n",
       "    <tr>\n",
       "      <th>8</th>\n",
       "      <td>5600</td>\n",
       "      <td>21.28</td>\n",
       "      <td>152.39</td>\n",
       "      <td>OWN</td>\n",
       "      <td>40000.00</td>\n",
       "      <td>2</td>\n",
       "      <td>32.60</td>\n",
       "      <td>646.020000</td>\n",
       "      <td>152.39</td>\n",
       "      <td>1</td>\n",
       "      <td>60</td>\n",
       "      <td>4</td>\n",
       "      <td>0</td>\n",
       "      <td>0</td>\n",
       "      <td>0</td>\n",
       "      <td>0</td>\n",
       "      <td>1</td>\n",
       "    </tr>\n",
       "    <tr>\n",
       "      <th>9</th>\n",
       "      <td>5375</td>\n",
       "      <td>12.69</td>\n",
       "      <td>121.45</td>\n",
       "      <td>RENT</td>\n",
       "      <td>15000.00</td>\n",
       "      <td>0</td>\n",
       "      <td>36.50</td>\n",
       "      <td>1476.190000</td>\n",
       "      <td>121.45</td>\n",
       "      <td>1</td>\n",
       "      <td>60</td>\n",
       "      <td>.5</td>\n",
       "      <td>1</td>\n",
       "      <td>0</td>\n",
       "      <td>0</td>\n",
       "      <td>0</td>\n",
       "      <td>0</td>\n",
       "    </tr>\n",
       "    <tr>\n",
       "      <th>10</th>\n",
       "      <td>6500</td>\n",
       "      <td>14.65</td>\n",
       "      <td>153.45</td>\n",
       "      <td>OWN</td>\n",
       "      <td>72000.00</td>\n",
       "      <td>2</td>\n",
       "      <td>20.60</td>\n",
       "      <td>7677.520000</td>\n",
       "      <td>1655.54</td>\n",
       "      <td>0</td>\n",
       "      <td>60</td>\n",
       "      <td>5</td>\n",
       "      <td>0</td>\n",
       "      <td>1</td>\n",
       "      <td>0</td>\n",
       "      <td>0</td>\n",
       "      <td>0</td>\n",
       "    </tr>\n",
       "    <tr>\n",
       "      <th>11</th>\n",
       "      <td>12000</td>\n",
       "      <td>12.69</td>\n",
       "      <td>402.54</td>\n",
       "      <td>OWN</td>\n",
       "      <td>75000.00</td>\n",
       "      <td>0</td>\n",
       "      <td>67.10</td>\n",
       "      <td>13943.080000</td>\n",
       "      <td>6315.30</td>\n",
       "      <td>0</td>\n",
       "      <td>36</td>\n",
       "      <td>10</td>\n",
       "      <td>1</td>\n",
       "      <td>0</td>\n",
       "      <td>0</td>\n",
       "      <td>0</td>\n",
       "      <td>0</td>\n",
       "    </tr>\n",
       "    <tr>\n",
       "      <th>12</th>\n",
       "      <td>9000</td>\n",
       "      <td>13.49</td>\n",
       "      <td>305.38</td>\n",
       "      <td>RENT</td>\n",
       "      <td>30000.00</td>\n",
       "      <td>1</td>\n",
       "      <td>91.70</td>\n",
       "      <td>2270.700000</td>\n",
       "      <td>305.38</td>\n",
       "      <td>1</td>\n",
       "      <td>36</td>\n",
       "      <td>.5</td>\n",
       "      <td>0</td>\n",
       "      <td>1</td>\n",
       "      <td>0</td>\n",
       "      <td>0</td>\n",
       "      <td>0</td>\n",
       "    </tr>\n",
       "    <tr>\n",
       "      <th>13</th>\n",
       "      <td>3000</td>\n",
       "      <td>9.91</td>\n",
       "      <td>96.68</td>\n",
       "      <td>RENT</td>\n",
       "      <td>15000.00</td>\n",
       "      <td>2</td>\n",
       "      <td>43.10</td>\n",
       "      <td>3478.981915</td>\n",
       "      <td>102.43</td>\n",
       "      <td>0</td>\n",
       "      <td>36</td>\n",
       "      <td>3</td>\n",
       "      <td>1</td>\n",
       "      <td>0</td>\n",
       "      <td>0</td>\n",
       "      <td>0</td>\n",
       "      <td>0</td>\n",
       "    </tr>\n",
       "    <tr>\n",
       "      <th>14</th>\n",
       "      <td>10000</td>\n",
       "      <td>10.65</td>\n",
       "      <td>325.74</td>\n",
       "      <td>RENT</td>\n",
       "      <td>100000.00</td>\n",
       "      <td>2</td>\n",
       "      <td>55.50</td>\n",
       "      <td>7471.990000</td>\n",
       "      <td>325.74</td>\n",
       "      <td>1</td>\n",
       "      <td>36</td>\n",
       "      <td>3</td>\n",
       "      <td>1</td>\n",
       "      <td>0</td>\n",
       "      <td>0</td>\n",
       "      <td>0</td>\n",
       "      <td>0</td>\n",
       "    </tr>\n",
       "    <tr>\n",
       "      <th>15</th>\n",
       "      <td>1000</td>\n",
       "      <td>16.29</td>\n",
       "      <td>35.31</td>\n",
       "      <td>RENT</td>\n",
       "      <td>28000.00</td>\n",
       "      <td>1</td>\n",
       "      <td>81.50</td>\n",
       "      <td>1270.171106</td>\n",
       "      <td>36.32</td>\n",
       "      <td>0</td>\n",
       "      <td>36</td>\n",
       "      <td>.5</td>\n",
       "      <td>0</td>\n",
       "      <td>0</td>\n",
       "      <td>1</td>\n",
       "      <td>0</td>\n",
       "      <td>0</td>\n",
       "    </tr>\n",
       "    <tr>\n",
       "      <th>16</th>\n",
       "      <td>10000</td>\n",
       "      <td>15.27</td>\n",
       "      <td>347.98</td>\n",
       "      <td>RENT</td>\n",
       "      <td>42000.00</td>\n",
       "      <td>2</td>\n",
       "      <td>70.20</td>\n",
       "      <td>12519.260450</td>\n",
       "      <td>370.46</td>\n",
       "      <td>0</td>\n",
       "      <td>36</td>\n",
       "      <td>4</td>\n",
       "      <td>0</td>\n",
       "      <td>1</td>\n",
       "      <td>0</td>\n",
       "      <td>0</td>\n",
       "      <td>0</td>\n",
       "    </tr>\n",
       "    <tr>\n",
       "      <th>17</th>\n",
       "      <td>3600</td>\n",
       "      <td>6.03</td>\n",
       "      <td>109.57</td>\n",
       "      <td>MORTGAGE</td>\n",
       "      <td>110000.00</td>\n",
       "      <td>0</td>\n",
       "      <td>16.00</td>\n",
       "      <td>3785.020000</td>\n",
       "      <td>583.45</td>\n",
       "      <td>0</td>\n",
       "      <td>36</td>\n",
       "      <td>10</td>\n",
       "      <td>0</td>\n",
       "      <td>0</td>\n",
       "      <td>0</td>\n",
       "      <td>0</td>\n",
       "      <td>0</td>\n",
       "    </tr>\n",
       "    <tr>\n",
       "      <th>18</th>\n",
       "      <td>6000</td>\n",
       "      <td>11.71</td>\n",
       "      <td>198.46</td>\n",
       "      <td>MORTGAGE</td>\n",
       "      <td>84000.00</td>\n",
       "      <td>0</td>\n",
       "      <td>37.73</td>\n",
       "      <td>7164.499852</td>\n",
       "      <td>16.98</td>\n",
       "      <td>0</td>\n",
       "      <td>36</td>\n",
       "      <td>1</td>\n",
       "      <td>1</td>\n",
       "      <td>0</td>\n",
       "      <td>0</td>\n",
       "      <td>0</td>\n",
       "      <td>0</td>\n",
       "    </tr>\n",
       "    <tr>\n",
       "      <th>19</th>\n",
       "      <td>9200</td>\n",
       "      <td>6.03</td>\n",
       "      <td>280.01</td>\n",
       "      <td>RENT</td>\n",
       "      <td>77385.19</td>\n",
       "      <td>0</td>\n",
       "      <td>23.10</td>\n",
       "      <td>9459.960000</td>\n",
       "      <td>8061.10</td>\n",
       "      <td>0</td>\n",
       "      <td>36</td>\n",
       "      <td>6</td>\n",
       "      <td>0</td>\n",
       "      <td>0</td>\n",
       "      <td>0</td>\n",
       "      <td>0</td>\n",
       "      <td>0</td>\n",
       "    </tr>\n",
       "    <tr>\n",
       "      <th>20</th>\n",
       "      <td>20250</td>\n",
       "      <td>15.27</td>\n",
       "      <td>484.63</td>\n",
       "      <td>RENT</td>\n",
       "      <td>43370.00</td>\n",
       "      <td>3</td>\n",
       "      <td>85.60</td>\n",
       "      <td>27663.042670</td>\n",
       "      <td>6024.09</td>\n",
       "      <td>0</td>\n",
       "      <td>60</td>\n",
       "      <td>3</td>\n",
       "      <td>0</td>\n",
       "      <td>1</td>\n",
       "      <td>0</td>\n",
       "      <td>0</td>\n",
       "      <td>0</td>\n",
       "    </tr>\n",
       "    <tr>\n",
       "      <th>21</th>\n",
       "      <td>21000</td>\n",
       "      <td>12.42</td>\n",
       "      <td>701.73</td>\n",
       "      <td>RENT</td>\n",
       "      <td>105000.00</td>\n",
       "      <td>0</td>\n",
       "      <td>90.30</td>\n",
       "      <td>14025.400000</td>\n",
       "      <td>701.73</td>\n",
       "      <td>1</td>\n",
       "      <td>36</td>\n",
       "      <td>10</td>\n",
       "      <td>1</td>\n",
       "      <td>0</td>\n",
       "      <td>0</td>\n",
       "      <td>0</td>\n",
       "      <td>0</td>\n",
       "    </tr>\n",
       "    <tr>\n",
       "      <th>22</th>\n",
       "      <td>10000</td>\n",
       "      <td>11.71</td>\n",
       "      <td>330.76</td>\n",
       "      <td>OWN</td>\n",
       "      <td>50000.00</td>\n",
       "      <td>0</td>\n",
       "      <td>82.40</td>\n",
       "      <td>11902.561570</td>\n",
       "      <td>349.21</td>\n",
       "      <td>0</td>\n",
       "      <td>36</td>\n",
       "      <td>10</td>\n",
       "      <td>1</td>\n",
       "      <td>0</td>\n",
       "      <td>0</td>\n",
       "      <td>0</td>\n",
       "      <td>0</td>\n",
       "    </tr>\n",
       "    <tr>\n",
       "      <th>23</th>\n",
       "      <td>10000</td>\n",
       "      <td>11.71</td>\n",
       "      <td>330.76</td>\n",
       "      <td>RENT</td>\n",
       "      <td>50000.00</td>\n",
       "      <td>0</td>\n",
       "      <td>91.80</td>\n",
       "      <td>11536.310000</td>\n",
       "      <td>4942.63</td>\n",
       "      <td>0</td>\n",
       "      <td>36</td>\n",
       "      <td>5</td>\n",
       "      <td>1</td>\n",
       "      <td>0</td>\n",
       "      <td>0</td>\n",
       "      <td>0</td>\n",
       "      <td>0</td>\n",
       "    </tr>\n",
       "  </tbody>\n",
       "</table>\n",
       "</div>"
      ],
      "text/plain": [
       "    loan_amnt  int_rate  installment home_ownership  annual_inc  \\\n",
       "0        5000     10.65       162.87           RENT    24000.00   \n",
       "1        2500     15.27        59.83           RENT    30000.00   \n",
       "2        2400     15.96        84.33           RENT    12252.00   \n",
       "3       10000     13.49       339.31           RENT    49200.00   \n",
       "4        3000     12.69        67.79           RENT    80000.00   \n",
       "5        5000      7.90       156.46           RENT    36000.00   \n",
       "6        7000     15.96       170.08           RENT    47004.00   \n",
       "7        3000     18.64       109.43           RENT    48000.00   \n",
       "8        5600     21.28       152.39            OWN    40000.00   \n",
       "9        5375     12.69       121.45           RENT    15000.00   \n",
       "10       6500     14.65       153.45            OWN    72000.00   \n",
       "11      12000     12.69       402.54            OWN    75000.00   \n",
       "12       9000     13.49       305.38           RENT    30000.00   \n",
       "13       3000      9.91        96.68           RENT    15000.00   \n",
       "14      10000     10.65       325.74           RENT   100000.00   \n",
       "15       1000     16.29        35.31           RENT    28000.00   \n",
       "16      10000     15.27       347.98           RENT    42000.00   \n",
       "17       3600      6.03       109.57       MORTGAGE   110000.00   \n",
       "18       6000     11.71       198.46       MORTGAGE    84000.00   \n",
       "19       9200      6.03       280.01           RENT    77385.19   \n",
       "20      20250     15.27       484.63           RENT    43370.00   \n",
       "21      21000     12.42       701.73           RENT   105000.00   \n",
       "22      10000     11.71       330.76            OWN    50000.00   \n",
       "23      10000     11.71       330.76           RENT    50000.00   \n",
       "\n",
       "    inq_last_6mths  revol_util   total_pymnt  last_pymnt_amnt  loan_status  \\\n",
       "0                1       83.70   5861.071414           171.62            0   \n",
       "1                5        9.40   1008.710000           119.66            1   \n",
       "2                2       98.50   3003.653644           649.91            0   \n",
       "3                1       21.00  12226.302210           357.48            0   \n",
       "4                0       53.90   3242.170000            67.79            1   \n",
       "5                3       28.30   5631.377753           161.03            0   \n",
       "6                1       85.60   8136.840000           170.08            1   \n",
       "7                2       87.50   3938.144334           111.34            0   \n",
       "8                2       32.60    646.020000           152.39            1   \n",
       "9                0       36.50   1476.190000           121.45            1   \n",
       "10               2       20.60   7677.520000          1655.54            0   \n",
       "11               0       67.10  13943.080000          6315.30            0   \n",
       "12               1       91.70   2270.700000           305.38            1   \n",
       "13               2       43.10   3478.981915           102.43            0   \n",
       "14               2       55.50   7471.990000           325.74            1   \n",
       "15               1       81.50   1270.171106            36.32            0   \n",
       "16               2       70.20  12519.260450           370.46            0   \n",
       "17               0       16.00   3785.020000           583.45            0   \n",
       "18               0       37.73   7164.499852            16.98            0   \n",
       "19               0       23.10   9459.960000          8061.10            0   \n",
       "20               3       85.60  27663.042670          6024.09            0   \n",
       "21               0       90.30  14025.400000           701.73            1   \n",
       "22               0       82.40  11902.561570           349.21            0   \n",
       "23               0       91.80  11536.310000          4942.63            0   \n",
       "\n",
       "   term_Nmonths emp_length_Nyears  B  C  D  E  F  \n",
       "0           36                10   1  0  0  0  0  \n",
       "1           60                .5   0  1  0  0  0  \n",
       "2           36                10   0  1  0  0  0  \n",
       "3           36                10   0  1  0  0  0  \n",
       "4           60                 1   1  0  0  0  0  \n",
       "5           36                 3   0  0  0  0  0  \n",
       "6           60                 8   0  1  0  0  0  \n",
       "7           36                 9   0  0  0  1  0  \n",
       "8           60                 4   0  0  0  0  1  \n",
       "9           60                .5   1  0  0  0  0  \n",
       "10          60                 5   0  1  0  0  0  \n",
       "11          36                10   1  0  0  0  0  \n",
       "12          36                .5   0  1  0  0  0  \n",
       "13          36                 3   1  0  0  0  0  \n",
       "14          36                 3   1  0  0  0  0  \n",
       "15          36                .5   0  0  1  0  0  \n",
       "16          36                 4   0  1  0  0  0  \n",
       "17          36                10   0  0  0  0  0  \n",
       "18          36                 1   1  0  0  0  0  \n",
       "19          36                 6   0  0  0  0  0  \n",
       "20          60                 3   0  1  0  0  0  \n",
       "21          36                10   1  0  0  0  0  \n",
       "22          36                10   1  0  0  0  0  \n",
       "23          36                 5   1  0  0  0  0  "
      ]
     },
     "execution_count": 27,
     "metadata": {},
     "output_type": "execute_result"
    }
   ],
   "source": [
    "df"
   ]
  },
  {
   "cell_type": "code",
   "execution_count": 28,
   "metadata": {},
   "outputs": [
    {
     "data": {
      "text/html": [
       "<div>\n",
       "<style scoped>\n",
       "    .dataframe tbody tr th:only-of-type {\n",
       "        vertical-align: middle;\n",
       "    }\n",
       "\n",
       "    .dataframe tbody tr th {\n",
       "        vertical-align: top;\n",
       "    }\n",
       "\n",
       "    .dataframe thead th {\n",
       "        text-align: right;\n",
       "    }\n",
       "</style>\n",
       "<table border=\"1\" class=\"dataframe\">\n",
       "  <thead>\n",
       "    <tr style=\"text-align: right;\">\n",
       "      <th></th>\n",
       "      <th>MORTGAGE</th>\n",
       "      <th>OWN</th>\n",
       "      <th>RENT</th>\n",
       "    </tr>\n",
       "  </thead>\n",
       "  <tbody>\n",
       "    <tr>\n",
       "      <th>0</th>\n",
       "      <td>0</td>\n",
       "      <td>0</td>\n",
       "      <td>1</td>\n",
       "    </tr>\n",
       "    <tr>\n",
       "      <th>1</th>\n",
       "      <td>0</td>\n",
       "      <td>0</td>\n",
       "      <td>1</td>\n",
       "    </tr>\n",
       "    <tr>\n",
       "      <th>2</th>\n",
       "      <td>0</td>\n",
       "      <td>0</td>\n",
       "      <td>1</td>\n",
       "    </tr>\n",
       "    <tr>\n",
       "      <th>3</th>\n",
       "      <td>0</td>\n",
       "      <td>0</td>\n",
       "      <td>1</td>\n",
       "    </tr>\n",
       "    <tr>\n",
       "      <th>4</th>\n",
       "      <td>0</td>\n",
       "      <td>0</td>\n",
       "      <td>1</td>\n",
       "    </tr>\n",
       "    <tr>\n",
       "      <th>5</th>\n",
       "      <td>0</td>\n",
       "      <td>0</td>\n",
       "      <td>1</td>\n",
       "    </tr>\n",
       "    <tr>\n",
       "      <th>6</th>\n",
       "      <td>0</td>\n",
       "      <td>0</td>\n",
       "      <td>1</td>\n",
       "    </tr>\n",
       "    <tr>\n",
       "      <th>7</th>\n",
       "      <td>0</td>\n",
       "      <td>0</td>\n",
       "      <td>1</td>\n",
       "    </tr>\n",
       "    <tr>\n",
       "      <th>8</th>\n",
       "      <td>0</td>\n",
       "      <td>1</td>\n",
       "      <td>0</td>\n",
       "    </tr>\n",
       "    <tr>\n",
       "      <th>9</th>\n",
       "      <td>0</td>\n",
       "      <td>0</td>\n",
       "      <td>1</td>\n",
       "    </tr>\n",
       "    <tr>\n",
       "      <th>10</th>\n",
       "      <td>0</td>\n",
       "      <td>1</td>\n",
       "      <td>0</td>\n",
       "    </tr>\n",
       "    <tr>\n",
       "      <th>11</th>\n",
       "      <td>0</td>\n",
       "      <td>1</td>\n",
       "      <td>0</td>\n",
       "    </tr>\n",
       "    <tr>\n",
       "      <th>12</th>\n",
       "      <td>0</td>\n",
       "      <td>0</td>\n",
       "      <td>1</td>\n",
       "    </tr>\n",
       "    <tr>\n",
       "      <th>13</th>\n",
       "      <td>0</td>\n",
       "      <td>0</td>\n",
       "      <td>1</td>\n",
       "    </tr>\n",
       "    <tr>\n",
       "      <th>14</th>\n",
       "      <td>0</td>\n",
       "      <td>0</td>\n",
       "      <td>1</td>\n",
       "    </tr>\n",
       "    <tr>\n",
       "      <th>15</th>\n",
       "      <td>0</td>\n",
       "      <td>0</td>\n",
       "      <td>1</td>\n",
       "    </tr>\n",
       "    <tr>\n",
       "      <th>16</th>\n",
       "      <td>0</td>\n",
       "      <td>0</td>\n",
       "      <td>1</td>\n",
       "    </tr>\n",
       "    <tr>\n",
       "      <th>17</th>\n",
       "      <td>1</td>\n",
       "      <td>0</td>\n",
       "      <td>0</td>\n",
       "    </tr>\n",
       "    <tr>\n",
       "      <th>18</th>\n",
       "      <td>1</td>\n",
       "      <td>0</td>\n",
       "      <td>0</td>\n",
       "    </tr>\n",
       "    <tr>\n",
       "      <th>19</th>\n",
       "      <td>0</td>\n",
       "      <td>0</td>\n",
       "      <td>1</td>\n",
       "    </tr>\n",
       "    <tr>\n",
       "      <th>20</th>\n",
       "      <td>0</td>\n",
       "      <td>0</td>\n",
       "      <td>1</td>\n",
       "    </tr>\n",
       "    <tr>\n",
       "      <th>21</th>\n",
       "      <td>0</td>\n",
       "      <td>0</td>\n",
       "      <td>1</td>\n",
       "    </tr>\n",
       "    <tr>\n",
       "      <th>22</th>\n",
       "      <td>0</td>\n",
       "      <td>1</td>\n",
       "      <td>0</td>\n",
       "    </tr>\n",
       "    <tr>\n",
       "      <th>23</th>\n",
       "      <td>0</td>\n",
       "      <td>0</td>\n",
       "      <td>1</td>\n",
       "    </tr>\n",
       "  </tbody>\n",
       "</table>\n",
       "</div>"
      ],
      "text/plain": [
       "    MORTGAGE  OWN  RENT\n",
       "0          0    0     1\n",
       "1          0    0     1\n",
       "2          0    0     1\n",
       "3          0    0     1\n",
       "4          0    0     1\n",
       "5          0    0     1\n",
       "6          0    0     1\n",
       "7          0    0     1\n",
       "8          0    1     0\n",
       "9          0    0     1\n",
       "10         0    1     0\n",
       "11         0    1     0\n",
       "12         0    0     1\n",
       "13         0    0     1\n",
       "14         0    0     1\n",
       "15         0    0     1\n",
       "16         0    0     1\n",
       "17         1    0     0\n",
       "18         1    0     0\n",
       "19         0    0     1\n",
       "20         0    0     1\n",
       "21         0    0     1\n",
       "22         0    1     0\n",
       "23         0    0     1"
      ]
     },
     "execution_count": 28,
     "metadata": {},
     "output_type": "execute_result"
    }
   ],
   "source": [
    "df7=pd.get_dummies(df.home_ownership)\n",
    "df7"
   ]
  },
  {
   "cell_type": "code",
   "execution_count": 29,
   "metadata": {},
   "outputs": [
    {
     "data": {
      "text/html": [
       "<div>\n",
       "<style scoped>\n",
       "    .dataframe tbody tr th:only-of-type {\n",
       "        vertical-align: middle;\n",
       "    }\n",
       "\n",
       "    .dataframe tbody tr th {\n",
       "        vertical-align: top;\n",
       "    }\n",
       "\n",
       "    .dataframe thead th {\n",
       "        text-align: right;\n",
       "    }\n",
       "</style>\n",
       "<table border=\"1\" class=\"dataframe\">\n",
       "  <thead>\n",
       "    <tr style=\"text-align: right;\">\n",
       "      <th></th>\n",
       "      <th>loan_amnt</th>\n",
       "      <th>int_rate</th>\n",
       "      <th>installment</th>\n",
       "      <th>home_ownership</th>\n",
       "      <th>annual_inc</th>\n",
       "      <th>inq_last_6mths</th>\n",
       "      <th>revol_util</th>\n",
       "      <th>total_pymnt</th>\n",
       "      <th>last_pymnt_amnt</th>\n",
       "      <th>loan_status</th>\n",
       "      <th>term_Nmonths</th>\n",
       "      <th>emp_length_Nyears</th>\n",
       "      <th>B</th>\n",
       "      <th>C</th>\n",
       "      <th>D</th>\n",
       "      <th>E</th>\n",
       "      <th>F</th>\n",
       "      <th>MORTGAGE</th>\n",
       "      <th>OWN</th>\n",
       "      <th>RENT</th>\n",
       "    </tr>\n",
       "  </thead>\n",
       "  <tbody>\n",
       "    <tr>\n",
       "      <th>0</th>\n",
       "      <td>5000</td>\n",
       "      <td>10.65</td>\n",
       "      <td>162.87</td>\n",
       "      <td>RENT</td>\n",
       "      <td>24000.0</td>\n",
       "      <td>1</td>\n",
       "      <td>83.7</td>\n",
       "      <td>5861.071414</td>\n",
       "      <td>171.62</td>\n",
       "      <td>0</td>\n",
       "      <td>36</td>\n",
       "      <td>10</td>\n",
       "      <td>1</td>\n",
       "      <td>0</td>\n",
       "      <td>0</td>\n",
       "      <td>0</td>\n",
       "      <td>0</td>\n",
       "      <td>0</td>\n",
       "      <td>0</td>\n",
       "      <td>1</td>\n",
       "    </tr>\n",
       "    <tr>\n",
       "      <th>1</th>\n",
       "      <td>2500</td>\n",
       "      <td>15.27</td>\n",
       "      <td>59.83</td>\n",
       "      <td>RENT</td>\n",
       "      <td>30000.0</td>\n",
       "      <td>5</td>\n",
       "      <td>9.4</td>\n",
       "      <td>1008.710000</td>\n",
       "      <td>119.66</td>\n",
       "      <td>1</td>\n",
       "      <td>60</td>\n",
       "      <td>.5</td>\n",
       "      <td>0</td>\n",
       "      <td>1</td>\n",
       "      <td>0</td>\n",
       "      <td>0</td>\n",
       "      <td>0</td>\n",
       "      <td>0</td>\n",
       "      <td>0</td>\n",
       "      <td>1</td>\n",
       "    </tr>\n",
       "    <tr>\n",
       "      <th>2</th>\n",
       "      <td>2400</td>\n",
       "      <td>15.96</td>\n",
       "      <td>84.33</td>\n",
       "      <td>RENT</td>\n",
       "      <td>12252.0</td>\n",
       "      <td>2</td>\n",
       "      <td>98.5</td>\n",
       "      <td>3003.653644</td>\n",
       "      <td>649.91</td>\n",
       "      <td>0</td>\n",
       "      <td>36</td>\n",
       "      <td>10</td>\n",
       "      <td>0</td>\n",
       "      <td>1</td>\n",
       "      <td>0</td>\n",
       "      <td>0</td>\n",
       "      <td>0</td>\n",
       "      <td>0</td>\n",
       "      <td>0</td>\n",
       "      <td>1</td>\n",
       "    </tr>\n",
       "    <tr>\n",
       "      <th>3</th>\n",
       "      <td>10000</td>\n",
       "      <td>13.49</td>\n",
       "      <td>339.31</td>\n",
       "      <td>RENT</td>\n",
       "      <td>49200.0</td>\n",
       "      <td>1</td>\n",
       "      <td>21.0</td>\n",
       "      <td>12226.302210</td>\n",
       "      <td>357.48</td>\n",
       "      <td>0</td>\n",
       "      <td>36</td>\n",
       "      <td>10</td>\n",
       "      <td>0</td>\n",
       "      <td>1</td>\n",
       "      <td>0</td>\n",
       "      <td>0</td>\n",
       "      <td>0</td>\n",
       "      <td>0</td>\n",
       "      <td>0</td>\n",
       "      <td>1</td>\n",
       "    </tr>\n",
       "    <tr>\n",
       "      <th>4</th>\n",
       "      <td>3000</td>\n",
       "      <td>12.69</td>\n",
       "      <td>67.79</td>\n",
       "      <td>RENT</td>\n",
       "      <td>80000.0</td>\n",
       "      <td>0</td>\n",
       "      <td>53.9</td>\n",
       "      <td>3242.170000</td>\n",
       "      <td>67.79</td>\n",
       "      <td>1</td>\n",
       "      <td>60</td>\n",
       "      <td>1</td>\n",
       "      <td>1</td>\n",
       "      <td>0</td>\n",
       "      <td>0</td>\n",
       "      <td>0</td>\n",
       "      <td>0</td>\n",
       "      <td>0</td>\n",
       "      <td>0</td>\n",
       "      <td>1</td>\n",
       "    </tr>\n",
       "  </tbody>\n",
       "</table>\n",
       "</div>"
      ],
      "text/plain": [
       "   loan_amnt  int_rate  installment home_ownership  annual_inc  \\\n",
       "0       5000     10.65       162.87           RENT     24000.0   \n",
       "1       2500     15.27        59.83           RENT     30000.0   \n",
       "2       2400     15.96        84.33           RENT     12252.0   \n",
       "3      10000     13.49       339.31           RENT     49200.0   \n",
       "4       3000     12.69        67.79           RENT     80000.0   \n",
       "\n",
       "   inq_last_6mths  revol_util   total_pymnt  last_pymnt_amnt  loan_status  \\\n",
       "0               1        83.7   5861.071414           171.62            0   \n",
       "1               5         9.4   1008.710000           119.66            1   \n",
       "2               2        98.5   3003.653644           649.91            0   \n",
       "3               1        21.0  12226.302210           357.48            0   \n",
       "4               0        53.9   3242.170000            67.79            1   \n",
       "\n",
       "  term_Nmonths emp_length_Nyears  B  C  D  E  F  MORTGAGE  OWN  RENT  \n",
       "0          36                10   1  0  0  0  0         0    0     1  \n",
       "1          60                .5   0  1  0  0  0         0    0     1  \n",
       "2          36                10   0  1  0  0  0         0    0     1  \n",
       "3          36                10   0  1  0  0  0         0    0     1  \n",
       "4          60                 1   1  0  0  0  0         0    0     1  "
      ]
     },
     "execution_count": 29,
     "metadata": {},
     "output_type": "execute_result"
    }
   ],
   "source": [
    "df=pd.concat([df,df7],axis=1)\n",
    "df.head()"
   ]
  },
  {
   "cell_type": "code",
   "execution_count": 30,
   "metadata": {},
   "outputs": [],
   "source": [
    "df.drop(['home_ownership','MORTGAGE'],axis=1,inplace=True)"
   ]
  },
  {
   "cell_type": "code",
   "execution_count": 31,
   "metadata": {},
   "outputs": [
    {
     "data": {
      "text/html": [
       "<div>\n",
       "<style scoped>\n",
       "    .dataframe tbody tr th:only-of-type {\n",
       "        vertical-align: middle;\n",
       "    }\n",
       "\n",
       "    .dataframe tbody tr th {\n",
       "        vertical-align: top;\n",
       "    }\n",
       "\n",
       "    .dataframe thead th {\n",
       "        text-align: right;\n",
       "    }\n",
       "</style>\n",
       "<table border=\"1\" class=\"dataframe\">\n",
       "  <thead>\n",
       "    <tr style=\"text-align: right;\">\n",
       "      <th></th>\n",
       "      <th>loan_amnt</th>\n",
       "      <th>int_rate</th>\n",
       "      <th>installment</th>\n",
       "      <th>annual_inc</th>\n",
       "      <th>inq_last_6mths</th>\n",
       "      <th>revol_util</th>\n",
       "      <th>total_pymnt</th>\n",
       "      <th>last_pymnt_amnt</th>\n",
       "      <th>loan_status</th>\n",
       "      <th>term_Nmonths</th>\n",
       "      <th>emp_length_Nyears</th>\n",
       "      <th>B</th>\n",
       "      <th>C</th>\n",
       "      <th>D</th>\n",
       "      <th>E</th>\n",
       "      <th>F</th>\n",
       "      <th>OWN</th>\n",
       "      <th>RENT</th>\n",
       "    </tr>\n",
       "  </thead>\n",
       "  <tbody>\n",
       "    <tr>\n",
       "      <th>0</th>\n",
       "      <td>5000</td>\n",
       "      <td>10.65</td>\n",
       "      <td>162.87</td>\n",
       "      <td>24000.0</td>\n",
       "      <td>1</td>\n",
       "      <td>83.7</td>\n",
       "      <td>5861.071414</td>\n",
       "      <td>171.62</td>\n",
       "      <td>0</td>\n",
       "      <td>36</td>\n",
       "      <td>10</td>\n",
       "      <td>1</td>\n",
       "      <td>0</td>\n",
       "      <td>0</td>\n",
       "      <td>0</td>\n",
       "      <td>0</td>\n",
       "      <td>0</td>\n",
       "      <td>1</td>\n",
       "    </tr>\n",
       "    <tr>\n",
       "      <th>1</th>\n",
       "      <td>2500</td>\n",
       "      <td>15.27</td>\n",
       "      <td>59.83</td>\n",
       "      <td>30000.0</td>\n",
       "      <td>5</td>\n",
       "      <td>9.4</td>\n",
       "      <td>1008.710000</td>\n",
       "      <td>119.66</td>\n",
       "      <td>1</td>\n",
       "      <td>60</td>\n",
       "      <td>.5</td>\n",
       "      <td>0</td>\n",
       "      <td>1</td>\n",
       "      <td>0</td>\n",
       "      <td>0</td>\n",
       "      <td>0</td>\n",
       "      <td>0</td>\n",
       "      <td>1</td>\n",
       "    </tr>\n",
       "    <tr>\n",
       "      <th>2</th>\n",
       "      <td>2400</td>\n",
       "      <td>15.96</td>\n",
       "      <td>84.33</td>\n",
       "      <td>12252.0</td>\n",
       "      <td>2</td>\n",
       "      <td>98.5</td>\n",
       "      <td>3003.653644</td>\n",
       "      <td>649.91</td>\n",
       "      <td>0</td>\n",
       "      <td>36</td>\n",
       "      <td>10</td>\n",
       "      <td>0</td>\n",
       "      <td>1</td>\n",
       "      <td>0</td>\n",
       "      <td>0</td>\n",
       "      <td>0</td>\n",
       "      <td>0</td>\n",
       "      <td>1</td>\n",
       "    </tr>\n",
       "    <tr>\n",
       "      <th>3</th>\n",
       "      <td>10000</td>\n",
       "      <td>13.49</td>\n",
       "      <td>339.31</td>\n",
       "      <td>49200.0</td>\n",
       "      <td>1</td>\n",
       "      <td>21.0</td>\n",
       "      <td>12226.302210</td>\n",
       "      <td>357.48</td>\n",
       "      <td>0</td>\n",
       "      <td>36</td>\n",
       "      <td>10</td>\n",
       "      <td>0</td>\n",
       "      <td>1</td>\n",
       "      <td>0</td>\n",
       "      <td>0</td>\n",
       "      <td>0</td>\n",
       "      <td>0</td>\n",
       "      <td>1</td>\n",
       "    </tr>\n",
       "    <tr>\n",
       "      <th>4</th>\n",
       "      <td>3000</td>\n",
       "      <td>12.69</td>\n",
       "      <td>67.79</td>\n",
       "      <td>80000.0</td>\n",
       "      <td>0</td>\n",
       "      <td>53.9</td>\n",
       "      <td>3242.170000</td>\n",
       "      <td>67.79</td>\n",
       "      <td>1</td>\n",
       "      <td>60</td>\n",
       "      <td>1</td>\n",
       "      <td>1</td>\n",
       "      <td>0</td>\n",
       "      <td>0</td>\n",
       "      <td>0</td>\n",
       "      <td>0</td>\n",
       "      <td>0</td>\n",
       "      <td>1</td>\n",
       "    </tr>\n",
       "  </tbody>\n",
       "</table>\n",
       "</div>"
      ],
      "text/plain": [
       "   loan_amnt  int_rate  installment  annual_inc  inq_last_6mths  revol_util  \\\n",
       "0       5000     10.65       162.87     24000.0               1        83.7   \n",
       "1       2500     15.27        59.83     30000.0               5         9.4   \n",
       "2       2400     15.96        84.33     12252.0               2        98.5   \n",
       "3      10000     13.49       339.31     49200.0               1        21.0   \n",
       "4       3000     12.69        67.79     80000.0               0        53.9   \n",
       "\n",
       "    total_pymnt  last_pymnt_amnt  loan_status term_Nmonths emp_length_Nyears  \\\n",
       "0   5861.071414           171.62            0          36                10    \n",
       "1   1008.710000           119.66            1          60                .5    \n",
       "2   3003.653644           649.91            0          36                10    \n",
       "3  12226.302210           357.48            0          36                10    \n",
       "4   3242.170000            67.79            1          60                 1    \n",
       "\n",
       "   B  C  D  E  F  OWN  RENT  \n",
       "0  1  0  0  0  0    0     1  \n",
       "1  0  1  0  0  0    0     1  \n",
       "2  0  1  0  0  0    0     1  \n",
       "3  0  1  0  0  0    0     1  \n",
       "4  1  0  0  0  0    0     1  "
      ]
     },
     "execution_count": 31,
     "metadata": {},
     "output_type": "execute_result"
    }
   ],
   "source": [
    "df.head()"
   ]
  },
  {
   "cell_type": "code",
   "execution_count": 32,
   "metadata": {},
   "outputs": [
    {
     "data": {
      "text/html": [
       "<div>\n",
       "<style scoped>\n",
       "    .dataframe tbody tr th:only-of-type {\n",
       "        vertical-align: middle;\n",
       "    }\n",
       "\n",
       "    .dataframe tbody tr th {\n",
       "        vertical-align: top;\n",
       "    }\n",
       "\n",
       "    .dataframe thead th {\n",
       "        text-align: right;\n",
       "    }\n",
       "</style>\n",
       "<table border=\"1\" class=\"dataframe\">\n",
       "  <thead>\n",
       "    <tr style=\"text-align: right;\">\n",
       "      <th></th>\n",
       "      <th>loan_amnt</th>\n",
       "      <th>int_rate</th>\n",
       "      <th>installment</th>\n",
       "      <th>annual_inc</th>\n",
       "      <th>inq_last_6mths</th>\n",
       "      <th>revol_util</th>\n",
       "      <th>total_pymnt</th>\n",
       "      <th>last_pymnt_amnt</th>\n",
       "      <th>loan_status</th>\n",
       "      <th>B</th>\n",
       "      <th>C</th>\n",
       "      <th>D</th>\n",
       "      <th>E</th>\n",
       "      <th>F</th>\n",
       "      <th>OWN</th>\n",
       "      <th>RENT</th>\n",
       "    </tr>\n",
       "  </thead>\n",
       "  <tbody>\n",
       "    <tr>\n",
       "      <th>count</th>\n",
       "      <td>24.000000</td>\n",
       "      <td>24.000000</td>\n",
       "      <td>24.000000</td>\n",
       "      <td>24.000000</td>\n",
       "      <td>24.000000</td>\n",
       "      <td>24.000000</td>\n",
       "      <td>24.000000</td>\n",
       "      <td>24.000000</td>\n",
       "      <td>24.000000</td>\n",
       "      <td>24.000000</td>\n",
       "      <td>24.000000</td>\n",
       "      <td>24.000000</td>\n",
       "      <td>24.000000</td>\n",
       "      <td>24.000000</td>\n",
       "      <td>24.000000</td>\n",
       "      <td>24.000000</td>\n",
       "    </tr>\n",
       "    <tr>\n",
       "      <th>mean</th>\n",
       "      <td>7517.708333</td>\n",
       "      <td>13.015000</td>\n",
       "      <td>230.289167</td>\n",
       "      <td>52633.799583</td>\n",
       "      <td>1.250000</td>\n",
       "      <td>58.067917</td>\n",
       "      <td>7472.457372</td>\n",
       "      <td>1328.046250</td>\n",
       "      <td>0.333333</td>\n",
       "      <td>0.416667</td>\n",
       "      <td>0.333333</td>\n",
       "      <td>0.041667</td>\n",
       "      <td>0.041667</td>\n",
       "      <td>0.041667</td>\n",
       "      <td>0.166667</td>\n",
       "      <td>0.750000</td>\n",
       "    </tr>\n",
       "    <tr>\n",
       "      <th>std</th>\n",
       "      <td>5085.318164</td>\n",
       "      <td>3.591979</td>\n",
       "      <td>158.804054</td>\n",
       "      <td>28836.832912</td>\n",
       "      <td>1.293798</td>\n",
       "      <td>29.600420</td>\n",
       "      <td>6104.020103</td>\n",
       "      <td>2359.096244</td>\n",
       "      <td>0.481543</td>\n",
       "      <td>0.503610</td>\n",
       "      <td>0.481543</td>\n",
       "      <td>0.204124</td>\n",
       "      <td>0.204124</td>\n",
       "      <td>0.204124</td>\n",
       "      <td>0.380693</td>\n",
       "      <td>0.442326</td>\n",
       "    </tr>\n",
       "    <tr>\n",
       "      <th>min</th>\n",
       "      <td>1000.000000</td>\n",
       "      <td>6.030000</td>\n",
       "      <td>35.310000</td>\n",
       "      <td>12252.000000</td>\n",
       "      <td>0.000000</td>\n",
       "      <td>9.400000</td>\n",
       "      <td>646.020000</td>\n",
       "      <td>16.980000</td>\n",
       "      <td>0.000000</td>\n",
       "      <td>0.000000</td>\n",
       "      <td>0.000000</td>\n",
       "      <td>0.000000</td>\n",
       "      <td>0.000000</td>\n",
       "      <td>0.000000</td>\n",
       "      <td>0.000000</td>\n",
       "      <td>0.000000</td>\n",
       "    </tr>\n",
       "    <tr>\n",
       "      <th>25%</th>\n",
       "      <td>3450.000000</td>\n",
       "      <td>11.445000</td>\n",
       "      <td>109.535000</td>\n",
       "      <td>30000.000000</td>\n",
       "      <td>0.000000</td>\n",
       "      <td>31.525000</td>\n",
       "      <td>3182.540911</td>\n",
       "      <td>121.002500</td>\n",
       "      <td>0.000000</td>\n",
       "      <td>0.000000</td>\n",
       "      <td>0.000000</td>\n",
       "      <td>0.000000</td>\n",
       "      <td>0.000000</td>\n",
       "      <td>0.000000</td>\n",
       "      <td>0.000000</td>\n",
       "      <td>0.750000</td>\n",
       "    </tr>\n",
       "    <tr>\n",
       "      <th>50%</th>\n",
       "      <td>6250.000000</td>\n",
       "      <td>12.690000</td>\n",
       "      <td>166.475000</td>\n",
       "      <td>47502.000000</td>\n",
       "      <td>1.000000</td>\n",
       "      <td>61.300000</td>\n",
       "      <td>6512.785633</td>\n",
       "      <td>315.560000</td>\n",
       "      <td>0.000000</td>\n",
       "      <td>0.000000</td>\n",
       "      <td>0.000000</td>\n",
       "      <td>0.000000</td>\n",
       "      <td>0.000000</td>\n",
       "      <td>0.000000</td>\n",
       "      <td>0.000000</td>\n",
       "      <td>1.000000</td>\n",
       "    </tr>\n",
       "    <tr>\n",
       "      <th>75%</th>\n",
       "      <td>10000.000000</td>\n",
       "      <td>15.270000</td>\n",
       "      <td>330.760000</td>\n",
       "      <td>75596.297500</td>\n",
       "      <td>2.000000</td>\n",
       "      <td>85.600000</td>\n",
       "      <td>11627.872892</td>\n",
       "      <td>662.865000</td>\n",
       "      <td>1.000000</td>\n",
       "      <td>1.000000</td>\n",
       "      <td>1.000000</td>\n",
       "      <td>0.000000</td>\n",
       "      <td>0.000000</td>\n",
       "      <td>0.000000</td>\n",
       "      <td>0.000000</td>\n",
       "      <td>1.000000</td>\n",
       "    </tr>\n",
       "    <tr>\n",
       "      <th>max</th>\n",
       "      <td>21000.000000</td>\n",
       "      <td>21.280000</td>\n",
       "      <td>701.730000</td>\n",
       "      <td>110000.000000</td>\n",
       "      <td>5.000000</td>\n",
       "      <td>98.500000</td>\n",
       "      <td>27663.042670</td>\n",
       "      <td>8061.100000</td>\n",
       "      <td>1.000000</td>\n",
       "      <td>1.000000</td>\n",
       "      <td>1.000000</td>\n",
       "      <td>1.000000</td>\n",
       "      <td>1.000000</td>\n",
       "      <td>1.000000</td>\n",
       "      <td>1.000000</td>\n",
       "      <td>1.000000</td>\n",
       "    </tr>\n",
       "  </tbody>\n",
       "</table>\n",
       "</div>"
      ],
      "text/plain": [
       "          loan_amnt   int_rate  installment     annual_inc  inq_last_6mths  \\\n",
       "count     24.000000  24.000000    24.000000      24.000000       24.000000   \n",
       "mean    7517.708333  13.015000   230.289167   52633.799583        1.250000   \n",
       "std     5085.318164   3.591979   158.804054   28836.832912        1.293798   \n",
       "min     1000.000000   6.030000    35.310000   12252.000000        0.000000   \n",
       "25%     3450.000000  11.445000   109.535000   30000.000000        0.000000   \n",
       "50%     6250.000000  12.690000   166.475000   47502.000000        1.000000   \n",
       "75%    10000.000000  15.270000   330.760000   75596.297500        2.000000   \n",
       "max    21000.000000  21.280000   701.730000  110000.000000        5.000000   \n",
       "\n",
       "       revol_util   total_pymnt  last_pymnt_amnt  loan_status          B  \\\n",
       "count   24.000000     24.000000        24.000000    24.000000  24.000000   \n",
       "mean    58.067917   7472.457372      1328.046250     0.333333   0.416667   \n",
       "std     29.600420   6104.020103      2359.096244     0.481543   0.503610   \n",
       "min      9.400000    646.020000        16.980000     0.000000   0.000000   \n",
       "25%     31.525000   3182.540911       121.002500     0.000000   0.000000   \n",
       "50%     61.300000   6512.785633       315.560000     0.000000   0.000000   \n",
       "75%     85.600000  11627.872892       662.865000     1.000000   1.000000   \n",
       "max     98.500000  27663.042670      8061.100000     1.000000   1.000000   \n",
       "\n",
       "               C          D          E          F        OWN       RENT  \n",
       "count  24.000000  24.000000  24.000000  24.000000  24.000000  24.000000  \n",
       "mean    0.333333   0.041667   0.041667   0.041667   0.166667   0.750000  \n",
       "std     0.481543   0.204124   0.204124   0.204124   0.380693   0.442326  \n",
       "min     0.000000   0.000000   0.000000   0.000000   0.000000   0.000000  \n",
       "25%     0.000000   0.000000   0.000000   0.000000   0.000000   0.750000  \n",
       "50%     0.000000   0.000000   0.000000   0.000000   0.000000   1.000000  \n",
       "75%     1.000000   0.000000   0.000000   0.000000   0.000000   1.000000  \n",
       "max     1.000000   1.000000   1.000000   1.000000   1.000000   1.000000  "
      ]
     },
     "execution_count": 32,
     "metadata": {},
     "output_type": "execute_result"
    }
   ],
   "source": [
    "df.describe()"
   ]
  },
  {
   "cell_type": "code",
   "execution_count": 110,
   "metadata": {},
   "outputs": [
    {
     "data": {
      "text/plain": [
       "<matplotlib.axes._subplots.AxesSubplot at 0xd0bf8c8>"
      ]
     },
     "execution_count": 110,
     "metadata": {},
     "output_type": "execute_result"
    },
    {
     "data": {
      "image/png": "[encoded data removed]",
      "text/plain": [
       "<Figure size 432x288 with 1 Axes>"
      ]
     },
     "metadata": {
      "needs_background": "light"
     },
     "output_type": "display_data"
    }
   ],
   "source": [
    "###\n",
    "sns.boxplot(y='total_pymnt',data=df)"
   ]
  },
  {
   "cell_type": "code",
   "execution_count": 33,
   "metadata": {},
   "outputs": [
    {
     "data": {
      "text/plain": [
       "<matplotlib.axes._subplots.AxesSubplot at 0xbd5fdc8>"
      ]
     },
     "execution_count": 33,
     "metadata": {},
     "output_type": "execute_result"
    },
    {
     "data": {
      "image/png": "[encoded data removed]",
      "text/plain": [
       "<Figure size 432x288 with 1 Axes>"
      ]
     },
     "metadata": {
      "needs_background": "light"
     },
     "output_type": "display_data"
    }
   ],
   "source": [
    "#outlier\n",
    "sns.boxplot(y='loan_amnt',data=df)"
   ]
  },
  {
   "cell_type": "code",
   "execution_count": 34,
   "metadata": {},
   "outputs": [
    {
     "data": {
      "text/plain": [
       "<matplotlib.axes._subplots.AxesSubplot at 0xbdd0d88>"
      ]
     },
     "execution_count": 34,
     "metadata": {},
     "output_type": "execute_result"
    },
    {
     "data": {
      "image/png": "[encoded data removed]",
      "text/plain": [
       "<Figure size 432x288 with 1 Axes>"
      ]
     },
     "metadata": {
      "needs_background": "light"
     },
     "output_type": "display_data"
    }
   ],
   "source": [
    "sns.boxplot(y='installment',data=df)"
   ]
  },
  {
   "cell_type": "code",
   "execution_count": 35,
   "metadata": {},
   "outputs": [
    {
     "data": {
      "text/plain": [
       "<matplotlib.axes._subplots.AxesSubplot at 0xbe2fb08>"
      ]
     },
     "execution_count": 35,
     "metadata": {},
     "output_type": "execute_result"
    },
    {
     "data": {
      "image/png": "[encoded data removed]",
      "text/plain": [
       "<Figure size 432x288 with 1 Axes>"
      ]
     },
     "metadata": {
      "needs_background": "light"
     },
     "output_type": "display_data"
    }
   ],
   "source": [
    "sns.boxplot(y='last_pymnt_amnt',data=df)"
   ]
  },
  {
   "cell_type": "code",
   "execution_count": 118,
   "metadata": {},
   "outputs": [
    {
     "data": {
      "text/plain": [
       "10000.0"
      ]
     },
     "execution_count": 118,
     "metadata": {},
     "output_type": "execute_result"
    }
   ],
   "source": [
    "ol1=np.percentile(df.loan_amnt,[95])[0]\n",
    "ol1"
   ]
  },
  {
   "cell_type": "code",
   "execution_count": 119,
   "metadata": {},
   "outputs": [
    {
     "data": {
      "text/html": [
       "<div>\n",
       "<style scoped>\n",
       "    .dataframe tbody tr th:only-of-type {\n",
       "        vertical-align: middle;\n",
       "    }\n",
       "\n",
       "    .dataframe tbody tr th {\n",
       "        vertical-align: top;\n",
       "    }\n",
       "\n",
       "    .dataframe thead th {\n",
       "        text-align: right;\n",
       "    }\n",
       "</style>\n",
       "<table border=\"1\" class=\"dataframe\">\n",
       "  <thead>\n",
       "    <tr style=\"text-align: right;\">\n",
       "      <th></th>\n",
       "      <th>loan_amnt</th>\n",
       "      <th>int_rate</th>\n",
       "      <th>annual_inc</th>\n",
       "      <th>revol_util</th>\n",
       "      <th>total_pymnt</th>\n",
       "      <th>last_pymnt_amnt</th>\n",
       "      <th>loan_status</th>\n",
       "      <th>term_Nmonths</th>\n",
       "      <th>emp_length_Nyears</th>\n",
       "      <th>B</th>\n",
       "      <th>C</th>\n",
       "      <th>D</th>\n",
       "      <th>E</th>\n",
       "      <th>F</th>\n",
       "      <th>RENT</th>\n",
       "    </tr>\n",
       "  </thead>\n",
       "  <tbody>\n",
       "    <tr>\n",
       "      <th>11</th>\n",
       "      <td>12000.0</td>\n",
       "      <td>12.69</td>\n",
       "      <td>75000.0</td>\n",
       "      <td>67.1</td>\n",
       "      <td>13943.08</td>\n",
       "      <td>6315.3</td>\n",
       "      <td>0</td>\n",
       "      <td>36</td>\n",
       "      <td>10</td>\n",
       "      <td>1</td>\n",
       "      <td>0</td>\n",
       "      <td>0</td>\n",
       "      <td>0</td>\n",
       "      <td>0</td>\n",
       "      <td>0</td>\n",
       "    </tr>\n",
       "  </tbody>\n",
       "</table>\n",
       "</div>"
      ],
      "text/plain": [
       "    loan_amnt  int_rate  annual_inc  revol_util  total_pymnt  last_pymnt_amnt  \\\n",
       "11    12000.0     12.69     75000.0        67.1     13943.08           6315.3   \n",
       "\n",
       "    loan_status term_Nmonths emp_length_Nyears  B  C  D  E  F  RENT  \n",
       "11            0          36                10   1  0  0  0  0     0  "
      ]
     },
     "execution_count": 119,
     "metadata": {},
     "output_type": "execute_result"
    }
   ],
   "source": [
    "df[(df.loan_amnt>ol1)]"
   ]
  },
  {
   "cell_type": "code",
   "execution_count": 38,
   "metadata": {},
   "outputs": [
    {
     "name": "stderr",
     "output_type": "stream",
     "text": [
      "C:\\Users\\DELL\\anaconda3\\lib\\site-packages\\ipykernel_launcher.py:1: SettingWithCopyWarning: \n",
      "A value is trying to be set on a copy of a slice from a DataFrame\n",
      "\n",
      "See the caveats in the documentation: https://pandas.pydata.org/pandas-docs/stable/user_guide/indexing.html#returning-a-view-versus-a-copy\n",
      "  \"\"\"Entry point for launching an IPython kernel.\n"
     ]
    }
   ],
   "source": [
    "df.loan_amnt[(df.loan_amnt>ol1)]=np.mean(df.loan_amnt)"
   ]
  },
  {
   "cell_type": "code",
   "execution_count": 39,
   "metadata": {},
   "outputs": [
    {
     "data": {
      "text/plain": [
       "<matplotlib.axes._subplots.AxesSubplot at 0xbeb7cc8>"
      ]
     },
     "execution_count": 39,
     "metadata": {},
     "output_type": "execute_result"
    },
    {
     "data": {
      "image/png": "[encoded data removed]",
      "text/plain": [
       "<Figure size 432x288 with 1 Axes>"
      ]
     },
     "metadata": {
      "needs_background": "light"
     },
     "output_type": "display_data"
    }
   ],
   "source": [
    "sns.boxplot(y='loan_amnt',data=df)"
   ]
  },
  {
   "cell_type": "code",
   "execution_count": 40,
   "metadata": {},
   "outputs": [
    {
     "data": {
      "text/plain": [
       "651.7969999999999"
      ]
     },
     "execution_count": 40,
     "metadata": {},
     "output_type": "execute_result"
    }
   ],
   "source": [
    "ol2=np.percentile(df.installment,[99])[0]\n",
    "ol2"
   ]
  },
  {
   "cell_type": "code",
   "execution_count": 41,
   "metadata": {},
   "outputs": [
    {
     "data": {
      "text/html": [
       "<div>\n",
       "<style scoped>\n",
       "    .dataframe tbody tr th:only-of-type {\n",
       "        vertical-align: middle;\n",
       "    }\n",
       "\n",
       "    .dataframe tbody tr th {\n",
       "        vertical-align: top;\n",
       "    }\n",
       "\n",
       "    .dataframe thead th {\n",
       "        text-align: right;\n",
       "    }\n",
       "</style>\n",
       "<table border=\"1\" class=\"dataframe\">\n",
       "  <thead>\n",
       "    <tr style=\"text-align: right;\">\n",
       "      <th></th>\n",
       "      <th>loan_amnt</th>\n",
       "      <th>int_rate</th>\n",
       "      <th>installment</th>\n",
       "      <th>annual_inc</th>\n",
       "      <th>inq_last_6mths</th>\n",
       "      <th>revol_util</th>\n",
       "      <th>total_pymnt</th>\n",
       "      <th>last_pymnt_amnt</th>\n",
       "      <th>loan_status</th>\n",
       "      <th>term_Nmonths</th>\n",
       "      <th>emp_length_Nyears</th>\n",
       "      <th>B</th>\n",
       "      <th>C</th>\n",
       "      <th>D</th>\n",
       "      <th>E</th>\n",
       "      <th>F</th>\n",
       "      <th>OWN</th>\n",
       "      <th>RENT</th>\n",
       "    </tr>\n",
       "  </thead>\n",
       "  <tbody>\n",
       "    <tr>\n",
       "      <th>21</th>\n",
       "      <td>7517.708333</td>\n",
       "      <td>12.42</td>\n",
       "      <td>701.73</td>\n",
       "      <td>105000.0</td>\n",
       "      <td>0</td>\n",
       "      <td>90.3</td>\n",
       "      <td>14025.4</td>\n",
       "      <td>701.73</td>\n",
       "      <td>1</td>\n",
       "      <td>36</td>\n",
       "      <td>10</td>\n",
       "      <td>1</td>\n",
       "      <td>0</td>\n",
       "      <td>0</td>\n",
       "      <td>0</td>\n",
       "      <td>0</td>\n",
       "      <td>0</td>\n",
       "      <td>1</td>\n",
       "    </tr>\n",
       "  </tbody>\n",
       "</table>\n",
       "</div>"
      ],
      "text/plain": [
       "      loan_amnt  int_rate  installment  annual_inc  inq_last_6mths  \\\n",
       "21  7517.708333     12.42       701.73    105000.0               0   \n",
       "\n",
       "    revol_util  total_pymnt  last_pymnt_amnt  loan_status term_Nmonths  \\\n",
       "21        90.3      14025.4           701.73            1          36    \n",
       "\n",
       "   emp_length_Nyears  B  C  D  E  F  OWN  RENT  \n",
       "21               10   1  0  0  0  0    0     1  "
      ]
     },
     "execution_count": 41,
     "metadata": {},
     "output_type": "execute_result"
    }
   ],
   "source": [
    "df[(df.installment>ol2)]"
   ]
  },
  {
   "cell_type": "code",
   "execution_count": 42,
   "metadata": {},
   "outputs": [
    {
     "name": "stderr",
     "output_type": "stream",
     "text": [
      "C:\\Users\\DELL\\anaconda3\\lib\\site-packages\\ipykernel_launcher.py:1: SettingWithCopyWarning: \n",
      "A value is trying to be set on a copy of a slice from a DataFrame\n",
      "\n",
      "See the caveats in the documentation: https://pandas.pydata.org/pandas-docs/stable/user_guide/indexing.html#returning-a-view-versus-a-copy\n",
      "  \"\"\"Entry point for launching an IPython kernel.\n"
     ]
    }
   ],
   "source": [
    "df.installment[(df.installment>ol2)]=np.mean(df.installment)"
   ]
  },
  {
   "cell_type": "code",
   "execution_count": 43,
   "metadata": {},
   "outputs": [
    {
     "data": {
      "text/plain": [
       "<matplotlib.axes._subplots.AxesSubplot at 0xbebe3c8>"
      ]
     },
     "execution_count": 43,
     "metadata": {},
     "output_type": "execute_result"
    },
    {
     "data": {
      "image/png": "[encoded data removed]",
      "text/plain": [
       "<Figure size 432x288 with 1 Axes>"
      ]
     },
     "metadata": {
      "needs_background": "light"
     },
     "output_type": "display_data"
    }
   ],
   "source": [
    "sns.boxplot(y='installment',data=df)"
   ]
  },
  {
   "cell_type": "code",
   "execution_count": 121,
   "metadata": {},
   "outputs": [
    {
     "data": {
      "text/plain": [
       "1951.3780999999997"
      ]
     },
     "execution_count": 121,
     "metadata": {},
     "output_type": "execute_result"
    }
   ],
   "source": [
    "ol3=np.percentile(df.last_pymnt_amnt,[83])[0]\n",
    "ol3"
   ]
  },
  {
   "cell_type": "code",
   "execution_count": 45,
   "metadata": {},
   "outputs": [
    {
     "data": {
      "text/html": [
       "<div>\n",
       "<style scoped>\n",
       "    .dataframe tbody tr th:only-of-type {\n",
       "        vertical-align: middle;\n",
       "    }\n",
       "\n",
       "    .dataframe tbody tr th {\n",
       "        vertical-align: top;\n",
       "    }\n",
       "\n",
       "    .dataframe thead th {\n",
       "        text-align: right;\n",
       "    }\n",
       "</style>\n",
       "<table border=\"1\" class=\"dataframe\">\n",
       "  <thead>\n",
       "    <tr style=\"text-align: right;\">\n",
       "      <th></th>\n",
       "      <th>loan_amnt</th>\n",
       "      <th>int_rate</th>\n",
       "      <th>installment</th>\n",
       "      <th>annual_inc</th>\n",
       "      <th>inq_last_6mths</th>\n",
       "      <th>revol_util</th>\n",
       "      <th>total_pymnt</th>\n",
       "      <th>last_pymnt_amnt</th>\n",
       "      <th>loan_status</th>\n",
       "      <th>term_Nmonths</th>\n",
       "      <th>emp_length_Nyears</th>\n",
       "      <th>B</th>\n",
       "      <th>C</th>\n",
       "      <th>D</th>\n",
       "      <th>E</th>\n",
       "      <th>F</th>\n",
       "      <th>OWN</th>\n",
       "      <th>RENT</th>\n",
       "    </tr>\n",
       "  </thead>\n",
       "  <tbody>\n",
       "    <tr>\n",
       "      <th>11</th>\n",
       "      <td>12000.000000</td>\n",
       "      <td>12.69</td>\n",
       "      <td>402.54</td>\n",
       "      <td>75000.00</td>\n",
       "      <td>0</td>\n",
       "      <td>67.1</td>\n",
       "      <td>13943.08000</td>\n",
       "      <td>6315.30</td>\n",
       "      <td>0</td>\n",
       "      <td>36</td>\n",
       "      <td>10</td>\n",
       "      <td>1</td>\n",
       "      <td>0</td>\n",
       "      <td>0</td>\n",
       "      <td>0</td>\n",
       "      <td>0</td>\n",
       "      <td>1</td>\n",
       "      <td>0</td>\n",
       "    </tr>\n",
       "    <tr>\n",
       "      <th>19</th>\n",
       "      <td>9200.000000</td>\n",
       "      <td>6.03</td>\n",
       "      <td>280.01</td>\n",
       "      <td>77385.19</td>\n",
       "      <td>0</td>\n",
       "      <td>23.1</td>\n",
       "      <td>9459.96000</td>\n",
       "      <td>8061.10</td>\n",
       "      <td>0</td>\n",
       "      <td>36</td>\n",
       "      <td>6</td>\n",
       "      <td>0</td>\n",
       "      <td>0</td>\n",
       "      <td>0</td>\n",
       "      <td>0</td>\n",
       "      <td>0</td>\n",
       "      <td>0</td>\n",
       "      <td>1</td>\n",
       "    </tr>\n",
       "    <tr>\n",
       "      <th>20</th>\n",
       "      <td>7517.708333</td>\n",
       "      <td>15.27</td>\n",
       "      <td>484.63</td>\n",
       "      <td>43370.00</td>\n",
       "      <td>3</td>\n",
       "      <td>85.6</td>\n",
       "      <td>27663.04267</td>\n",
       "      <td>6024.09</td>\n",
       "      <td>0</td>\n",
       "      <td>60</td>\n",
       "      <td>3</td>\n",
       "      <td>0</td>\n",
       "      <td>1</td>\n",
       "      <td>0</td>\n",
       "      <td>0</td>\n",
       "      <td>0</td>\n",
       "      <td>0</td>\n",
       "      <td>1</td>\n",
       "    </tr>\n",
       "    <tr>\n",
       "      <th>23</th>\n",
       "      <td>10000.000000</td>\n",
       "      <td>11.71</td>\n",
       "      <td>330.76</td>\n",
       "      <td>50000.00</td>\n",
       "      <td>0</td>\n",
       "      <td>91.8</td>\n",
       "      <td>11536.31000</td>\n",
       "      <td>4942.63</td>\n",
       "      <td>0</td>\n",
       "      <td>36</td>\n",
       "      <td>5</td>\n",
       "      <td>1</td>\n",
       "      <td>0</td>\n",
       "      <td>0</td>\n",
       "      <td>0</td>\n",
       "      <td>0</td>\n",
       "      <td>0</td>\n",
       "      <td>1</td>\n",
       "    </tr>\n",
       "  </tbody>\n",
       "</table>\n",
       "</div>"
      ],
      "text/plain": [
       "       loan_amnt  int_rate  installment  annual_inc  inq_last_6mths  \\\n",
       "11  12000.000000     12.69       402.54    75000.00               0   \n",
       "19   9200.000000      6.03       280.01    77385.19               0   \n",
       "20   7517.708333     15.27       484.63    43370.00               3   \n",
       "23  10000.000000     11.71       330.76    50000.00               0   \n",
       "\n",
       "    revol_util  total_pymnt  last_pymnt_amnt  loan_status term_Nmonths  \\\n",
       "11        67.1  13943.08000          6315.30            0          36    \n",
       "19        23.1   9459.96000          8061.10            0          36    \n",
       "20        85.6  27663.04267          6024.09            0          60    \n",
       "23        91.8  11536.31000          4942.63            0          36    \n",
       "\n",
       "   emp_length_Nyears  B  C  D  E  F  OWN  RENT  \n",
       "11               10   1  0  0  0  0    1     0  \n",
       "19                6   0  0  0  0  0    0     1  \n",
       "20                3   0  1  0  0  0    0     1  \n",
       "23                5   1  0  0  0  0    0     1  "
      ]
     },
     "execution_count": 45,
     "metadata": {},
     "output_type": "execute_result"
    }
   ],
   "source": [
    "df[(df.last_pymnt_amnt>ol3)]"
   ]
  },
  {
   "cell_type": "code",
   "execution_count": 46,
   "metadata": {},
   "outputs": [
    {
     "data": {
      "text/plain": [
       "<matplotlib.axes._subplots.AxesSubplot at 0xbcd88c8>"
      ]
     },
     "execution_count": 46,
     "metadata": {},
     "output_type": "execute_result"
    },
    {
     "data": {
      "image/png": "[encoded data removed]",
      "text/plain": [
       "<Figure size 432x288 with 1 Axes>"
      ]
     },
     "metadata": {
      "needs_background": "light"
     },
     "output_type": "display_data"
    }
   ],
   "source": [
    "sns.scatterplot(x='last_pymnt_amnt',y='loan_status',data=df)"
   ]
  },
  {
   "cell_type": "code",
   "execution_count": 47,
   "metadata": {},
   "outputs": [
    {
     "data": {
      "image/png": "[encoded data removed]",
      "text/plain": [
       "<Figure size 1440x1440 with 2 Axes>"
      ]
     },
     "metadata": {
      "needs_background": "light"
     },
     "output_type": "display_data"
    }
   ],
   "source": [
    "corrmat = df.corr()\n",
    "top_corr_features = corrmat.index\n",
    "plt.figure(figsize=(20,20))\n",
    "#plot heat map\n",
    "g=sns.heatmap(df[top_corr_features].corr(),annot=True,cmap=\"RdYlGn\")"
   ]
  },
  {
   "cell_type": "code",
   "execution_count": 48,
   "metadata": {},
   "outputs": [
    {
     "data": {
      "text/plain": [
       "Index(['loan_amnt', 'int_rate', 'installment', 'annual_inc', 'inq_last_6mths',\n",
       "       'revol_util', 'total_pymnt', 'last_pymnt_amnt', 'loan_status',\n",
       "       'term_Nmonths', 'emp_length_Nyears', 'B', 'C', 'D', 'E', 'F', 'OWN',\n",
       "       'RENT'],\n",
       "      dtype='object')"
      ]
     },
     "execution_count": 48,
     "metadata": {},
     "output_type": "execute_result"
    }
   ],
   "source": [
    "df.columns"
   ]
  },
  {
   "cell_type": "code",
   "execution_count": 49,
   "metadata": {},
   "outputs": [],
   "source": [
    "#inq_last_6mths,'OWN',multi colinearity 'installment'\n",
    "df.drop(['inq_last_6mths','OWN','installment'],axis=1,inplace=True)"
   ]
  },
  {
   "cell_type": "code",
   "execution_count": 50,
   "metadata": {},
   "outputs": [
    {
     "data": {
      "text/plain": [
       "Index(['loan_amnt', 'int_rate', 'annual_inc', 'revol_util', 'total_pymnt',\n",
       "       'last_pymnt_amnt', 'loan_status', 'term_Nmonths', 'emp_length_Nyears',\n",
       "       'B', 'C', 'D', 'E', 'F', 'RENT'],\n",
       "      dtype='object')"
      ]
     },
     "execution_count": 50,
     "metadata": {},
     "output_type": "execute_result"
    }
   ],
   "source": [
    "df.columns"
   ]
  },
  {
   "cell_type": "markdown",
   "metadata": {},
   "source": [
    "# LogisticRegression(train test split)"
   ]
  },
  {
   "cell_type": "code",
   "execution_count": 51,
   "metadata": {},
   "outputs": [],
   "source": [
    "from sklearn.model_selection import train_test_split"
   ]
  },
  {
   "cell_type": "code",
   "execution_count": 52,
   "metadata": {},
   "outputs": [],
   "source": [
    "X_train, X_test, y_train, y_test = train_test_split(df.drop('loan_status',axis=1),df['loan_status'], test_size=0.30, random_state=101)"
   ]
  },
  {
   "cell_type": "code",
   "execution_count": 53,
   "metadata": {},
   "outputs": [],
   "source": [
    "from sklearn.linear_model import LogisticRegression"
   ]
  },
  {
   "cell_type": "code",
   "execution_count": 54,
   "metadata": {},
   "outputs": [
    {
     "data": {
      "text/plain": [
       "LogisticRegression(C=1.0, class_weight=None, dual=False, fit_intercept=True,\n",
       "                   intercept_scaling=1, l1_ratio=None, max_iter=100,\n",
       "                   multi_class='auto', n_jobs=None, penalty='l2',\n",
       "                   random_state=None, solver='lbfgs', tol=0.0001, verbose=0,\n",
       "                   warm_start=False)"
      ]
     },
     "execution_count": 54,
     "metadata": {},
     "output_type": "execute_result"
    }
   ],
   "source": [
    "logmodel=LogisticRegression()\n",
    "logmodel.fit(X_train,y_train)"
   ]
  },
  {
   "cell_type": "code",
   "execution_count": 55,
   "metadata": {},
   "outputs": [],
   "source": [
    "predictions = logmodel.predict(X_test)"
   ]
  },
  {
   "cell_type": "code",
   "execution_count": 56,
   "metadata": {},
   "outputs": [],
   "source": [
    "from sklearn.metrics import classification_report"
   ]
  },
  {
   "cell_type": "code",
   "execution_count": 57,
   "metadata": {},
   "outputs": [
    {
     "name": "stdout",
     "output_type": "stream",
     "text": [
      "              precision    recall  f1-score   support\n",
      "\n",
      "           0       0.86      0.86      0.86         7\n",
      "           1       0.00      0.00      0.00         1\n",
      "\n",
      "    accuracy                           0.75         8\n",
      "   macro avg       0.43      0.43      0.43         8\n",
      "weighted avg       0.75      0.75      0.75         8\n",
      "\n"
     ]
    }
   ],
   "source": [
    "print(classification_report(y_test,predictions))"
   ]
  },
  {
   "cell_type": "code",
   "execution_count": 58,
   "metadata": {},
   "outputs": [
    {
     "data": {
      "text/plain": [
       "array([[6, 1],\n",
       "       [1, 0]], dtype=int64)"
      ]
     },
     "execution_count": 58,
     "metadata": {},
     "output_type": "execute_result"
    }
   ],
   "source": [
    "from sklearn.metrics import confusion_matrix\n",
    "confusion_matrix(y_test, predictions )"
   ]
  },
  {
   "cell_type": "code",
   "execution_count": 59,
   "metadata": {},
   "outputs": [
    {
     "data": {
      "text/plain": [
       "0.75"
      ]
     },
     "execution_count": 59,
     "metadata": {},
     "output_type": "execute_result"
    }
   ],
   "source": [
    "6/8"
   ]
  },
  {
   "cell_type": "code",
   "execution_count": null,
   "metadata": {},
   "outputs": [],
   "source": []
  },
  {
   "cell_type": "code",
   "execution_count": null,
   "metadata": {},
   "outputs": [],
   "source": []
  },
  {
   "cell_type": "markdown",
   "metadata": {},
   "source": [
    "# LogisticRegression(with out train test split)"
   ]
  },
  {
   "cell_type": "code",
   "execution_count": 60,
   "metadata": {},
   "outputs": [
    {
     "data": {
      "text/html": [
       "<div>\n",
       "<style scoped>\n",
       "    .dataframe tbody tr th:only-of-type {\n",
       "        vertical-align: middle;\n",
       "    }\n",
       "\n",
       "    .dataframe tbody tr th {\n",
       "        vertical-align: top;\n",
       "    }\n",
       "\n",
       "    .dataframe thead th {\n",
       "        text-align: right;\n",
       "    }\n",
       "</style>\n",
       "<table border=\"1\" class=\"dataframe\">\n",
       "  <thead>\n",
       "    <tr style=\"text-align: right;\">\n",
       "      <th></th>\n",
       "      <th>loan_amnt</th>\n",
       "      <th>int_rate</th>\n",
       "      <th>annual_inc</th>\n",
       "      <th>revol_util</th>\n",
       "      <th>total_pymnt</th>\n",
       "      <th>last_pymnt_amnt</th>\n",
       "      <th>loan_status</th>\n",
       "      <th>term_Nmonths</th>\n",
       "      <th>emp_length_Nyears</th>\n",
       "      <th>B</th>\n",
       "      <th>C</th>\n",
       "      <th>D</th>\n",
       "      <th>E</th>\n",
       "      <th>F</th>\n",
       "      <th>RENT</th>\n",
       "    </tr>\n",
       "  </thead>\n",
       "  <tbody>\n",
       "    <tr>\n",
       "      <th>0</th>\n",
       "      <td>5000.0</td>\n",
       "      <td>10.65</td>\n",
       "      <td>24000.0</td>\n",
       "      <td>83.7</td>\n",
       "      <td>5861.071414</td>\n",
       "      <td>171.62</td>\n",
       "      <td>0</td>\n",
       "      <td>36</td>\n",
       "      <td>10</td>\n",
       "      <td>1</td>\n",
       "      <td>0</td>\n",
       "      <td>0</td>\n",
       "      <td>0</td>\n",
       "      <td>0</td>\n",
       "      <td>1</td>\n",
       "    </tr>\n",
       "    <tr>\n",
       "      <th>1</th>\n",
       "      <td>2500.0</td>\n",
       "      <td>15.27</td>\n",
       "      <td>30000.0</td>\n",
       "      <td>9.4</td>\n",
       "      <td>1008.710000</td>\n",
       "      <td>119.66</td>\n",
       "      <td>1</td>\n",
       "      <td>60</td>\n",
       "      <td>.5</td>\n",
       "      <td>0</td>\n",
       "      <td>1</td>\n",
       "      <td>0</td>\n",
       "      <td>0</td>\n",
       "      <td>0</td>\n",
       "      <td>1</td>\n",
       "    </tr>\n",
       "    <tr>\n",
       "      <th>2</th>\n",
       "      <td>2400.0</td>\n",
       "      <td>15.96</td>\n",
       "      <td>12252.0</td>\n",
       "      <td>98.5</td>\n",
       "      <td>3003.653644</td>\n",
       "      <td>649.91</td>\n",
       "      <td>0</td>\n",
       "      <td>36</td>\n",
       "      <td>10</td>\n",
       "      <td>0</td>\n",
       "      <td>1</td>\n",
       "      <td>0</td>\n",
       "      <td>0</td>\n",
       "      <td>0</td>\n",
       "      <td>1</td>\n",
       "    </tr>\n",
       "    <tr>\n",
       "      <th>3</th>\n",
       "      <td>10000.0</td>\n",
       "      <td>13.49</td>\n",
       "      <td>49200.0</td>\n",
       "      <td>21.0</td>\n",
       "      <td>12226.302210</td>\n",
       "      <td>357.48</td>\n",
       "      <td>0</td>\n",
       "      <td>36</td>\n",
       "      <td>10</td>\n",
       "      <td>0</td>\n",
       "      <td>1</td>\n",
       "      <td>0</td>\n",
       "      <td>0</td>\n",
       "      <td>0</td>\n",
       "      <td>1</td>\n",
       "    </tr>\n",
       "    <tr>\n",
       "      <th>4</th>\n",
       "      <td>3000.0</td>\n",
       "      <td>12.69</td>\n",
       "      <td>80000.0</td>\n",
       "      <td>53.9</td>\n",
       "      <td>3242.170000</td>\n",
       "      <td>67.79</td>\n",
       "      <td>1</td>\n",
       "      <td>60</td>\n",
       "      <td>1</td>\n",
       "      <td>1</td>\n",
       "      <td>0</td>\n",
       "      <td>0</td>\n",
       "      <td>0</td>\n",
       "      <td>0</td>\n",
       "      <td>1</td>\n",
       "    </tr>\n",
       "  </tbody>\n",
       "</table>\n",
       "</div>"
      ],
      "text/plain": [
       "   loan_amnt  int_rate  annual_inc  revol_util   total_pymnt  last_pymnt_amnt  \\\n",
       "0     5000.0     10.65     24000.0        83.7   5861.071414           171.62   \n",
       "1     2500.0     15.27     30000.0         9.4   1008.710000           119.66   \n",
       "2     2400.0     15.96     12252.0        98.5   3003.653644           649.91   \n",
       "3    10000.0     13.49     49200.0        21.0  12226.302210           357.48   \n",
       "4     3000.0     12.69     80000.0        53.9   3242.170000            67.79   \n",
       "\n",
       "   loan_status term_Nmonths emp_length_Nyears  B  C  D  E  F  RENT  \n",
       "0            0          36                10   1  0  0  0  0     1  \n",
       "1            1          60                .5   0  1  0  0  0     1  \n",
       "2            0          36                10   0  1  0  0  0     1  \n",
       "3            0          36                10   0  1  0  0  0     1  \n",
       "4            1          60                 1   1  0  0  0  0     1  "
      ]
     },
     "execution_count": 60,
     "metadata": {},
     "output_type": "execute_result"
    }
   ],
   "source": [
    "df.head()"
   ]
  },
  {
   "cell_type": "code",
   "execution_count": 61,
   "metadata": {},
   "outputs": [],
   "source": [
    "x=df.loc[:,df.columns!='loan_status']"
   ]
  },
  {
   "cell_type": "code",
   "execution_count": 62,
   "metadata": {},
   "outputs": [],
   "source": [
    "y=df['loan_status']"
   ]
  },
  {
   "cell_type": "code",
   "execution_count": 63,
   "metadata": {},
   "outputs": [
    {
     "data": {
      "text/html": [
       "<div>\n",
       "<style scoped>\n",
       "    .dataframe tbody tr th:only-of-type {\n",
       "        vertical-align: middle;\n",
       "    }\n",
       "\n",
       "    .dataframe tbody tr th {\n",
       "        vertical-align: top;\n",
       "    }\n",
       "\n",
       "    .dataframe thead th {\n",
       "        text-align: right;\n",
       "    }\n",
       "</style>\n",
       "<table border=\"1\" class=\"dataframe\">\n",
       "  <thead>\n",
       "    <tr style=\"text-align: right;\">\n",
       "      <th></th>\n",
       "      <th>loan_amnt</th>\n",
       "      <th>int_rate</th>\n",
       "      <th>annual_inc</th>\n",
       "      <th>revol_util</th>\n",
       "      <th>total_pymnt</th>\n",
       "      <th>last_pymnt_amnt</th>\n",
       "      <th>term_Nmonths</th>\n",
       "      <th>emp_length_Nyears</th>\n",
       "      <th>B</th>\n",
       "      <th>C</th>\n",
       "      <th>D</th>\n",
       "      <th>E</th>\n",
       "      <th>F</th>\n",
       "      <th>RENT</th>\n",
       "    </tr>\n",
       "  </thead>\n",
       "  <tbody>\n",
       "    <tr>\n",
       "      <th>0</th>\n",
       "      <td>5000.0</td>\n",
       "      <td>10.65</td>\n",
       "      <td>24000.0</td>\n",
       "      <td>83.7</td>\n",
       "      <td>5861.071414</td>\n",
       "      <td>171.62</td>\n",
       "      <td>36</td>\n",
       "      <td>10</td>\n",
       "      <td>1</td>\n",
       "      <td>0</td>\n",
       "      <td>0</td>\n",
       "      <td>0</td>\n",
       "      <td>0</td>\n",
       "      <td>1</td>\n",
       "    </tr>\n",
       "    <tr>\n",
       "      <th>1</th>\n",
       "      <td>2500.0</td>\n",
       "      <td>15.27</td>\n",
       "      <td>30000.0</td>\n",
       "      <td>9.4</td>\n",
       "      <td>1008.710000</td>\n",
       "      <td>119.66</td>\n",
       "      <td>60</td>\n",
       "      <td>.5</td>\n",
       "      <td>0</td>\n",
       "      <td>1</td>\n",
       "      <td>0</td>\n",
       "      <td>0</td>\n",
       "      <td>0</td>\n",
       "      <td>1</td>\n",
       "    </tr>\n",
       "    <tr>\n",
       "      <th>2</th>\n",
       "      <td>2400.0</td>\n",
       "      <td>15.96</td>\n",
       "      <td>12252.0</td>\n",
       "      <td>98.5</td>\n",
       "      <td>3003.653644</td>\n",
       "      <td>649.91</td>\n",
       "      <td>36</td>\n",
       "      <td>10</td>\n",
       "      <td>0</td>\n",
       "      <td>1</td>\n",
       "      <td>0</td>\n",
       "      <td>0</td>\n",
       "      <td>0</td>\n",
       "      <td>1</td>\n",
       "    </tr>\n",
       "    <tr>\n",
       "      <th>3</th>\n",
       "      <td>10000.0</td>\n",
       "      <td>13.49</td>\n",
       "      <td>49200.0</td>\n",
       "      <td>21.0</td>\n",
       "      <td>12226.302210</td>\n",
       "      <td>357.48</td>\n",
       "      <td>36</td>\n",
       "      <td>10</td>\n",
       "      <td>0</td>\n",
       "      <td>1</td>\n",
       "      <td>0</td>\n",
       "      <td>0</td>\n",
       "      <td>0</td>\n",
       "      <td>1</td>\n",
       "    </tr>\n",
       "    <tr>\n",
       "      <th>4</th>\n",
       "      <td>3000.0</td>\n",
       "      <td>12.69</td>\n",
       "      <td>80000.0</td>\n",
       "      <td>53.9</td>\n",
       "      <td>3242.170000</td>\n",
       "      <td>67.79</td>\n",
       "      <td>60</td>\n",
       "      <td>1</td>\n",
       "      <td>1</td>\n",
       "      <td>0</td>\n",
       "      <td>0</td>\n",
       "      <td>0</td>\n",
       "      <td>0</td>\n",
       "      <td>1</td>\n",
       "    </tr>\n",
       "  </tbody>\n",
       "</table>\n",
       "</div>"
      ],
      "text/plain": [
       "   loan_amnt  int_rate  annual_inc  revol_util   total_pymnt  last_pymnt_amnt  \\\n",
       "0     5000.0     10.65     24000.0        83.7   5861.071414           171.62   \n",
       "1     2500.0     15.27     30000.0         9.4   1008.710000           119.66   \n",
       "2     2400.0     15.96     12252.0        98.5   3003.653644           649.91   \n",
       "3    10000.0     13.49     49200.0        21.0  12226.302210           357.48   \n",
       "4     3000.0     12.69     80000.0        53.9   3242.170000            67.79   \n",
       "\n",
       "  term_Nmonths emp_length_Nyears  B  C  D  E  F  RENT  \n",
       "0          36                10   1  0  0  0  0     1  \n",
       "1          60                .5   0  1  0  0  0     1  \n",
       "2          36                10   0  1  0  0  0     1  \n",
       "3          36                10   0  1  0  0  0     1  \n",
       "4          60                 1   1  0  0  0  0     1  "
      ]
     },
     "execution_count": 63,
     "metadata": {},
     "output_type": "execute_result"
    }
   ],
   "source": [
    "x.head()"
   ]
  },
  {
   "cell_type": "code",
   "execution_count": 64,
   "metadata": {},
   "outputs": [
    {
     "data": {
      "text/plain": [
       "0    0\n",
       "1    1\n",
       "2    0\n",
       "3    0\n",
       "4    1\n",
       "Name: loan_status, dtype: int64"
      ]
     },
     "execution_count": 64,
     "metadata": {},
     "output_type": "execute_result"
    }
   ],
   "source": [
    "y.head()"
   ]
  },
  {
   "cell_type": "code",
   "execution_count": 65,
   "metadata": {},
   "outputs": [
    {
     "name": "stderr",
     "output_type": "stream",
     "text": [
      "C:\\Users\\DELL\\anaconda3\\lib\\site-packages\\sklearn\\linear_model\\_logistic.py:940: ConvergenceWarning: lbfgs failed to converge (status=1):\n",
      "STOP: TOTAL NO. of ITERATIONS REACHED LIMIT.\n",
      "\n",
      "Increase the number of iterations (max_iter) or scale the data as shown in:\n",
      "    https://scikit-learn.org/stable/modules/preprocessing.html\n",
      "Please also refer to the documentation for alternative solver options:\n",
      "    https://scikit-learn.org/stable/modules/linear_model.html#logistic-regression\n",
      "  extra_warning_msg=_LOGISTIC_SOLVER_CONVERGENCE_MSG)\n"
     ]
    },
    {
     "data": {
      "text/plain": [
       "LogisticRegression(C=1.0, class_weight=None, dual=False, fit_intercept=True,\n",
       "                   intercept_scaling=1, l1_ratio=None, max_iter=100,\n",
       "                   multi_class='auto', n_jobs=None, penalty='l2',\n",
       "                   random_state=None, solver='lbfgs', tol=0.0001, verbose=0,\n",
       "                   warm_start=False)"
      ]
     },
     "execution_count": 65,
     "metadata": {},
     "output_type": "execute_result"
    }
   ],
   "source": [
    "logmodel=LogisticRegression()\n",
    "logmodel.fit(x,y)"
   ]
  },
  {
   "cell_type": "code",
   "execution_count": 66,
   "metadata": {},
   "outputs": [
    {
     "data": {
      "text/plain": [
       "array([[ 3.43566715e-04, -1.64255137e-02,  8.19497329e-06,\n",
       "        -8.37626468e-03, -3.68647640e-04, -1.25256395e-03,\n",
       "         1.59564508e-02, -1.80236841e-02,  8.62994898e-04,\n",
       "         1.47313515e-03, -1.37082880e-03, -1.19084937e-03,\n",
       "         3.95579654e-04,  1.11759153e-03]])"
      ]
     },
     "execution_count": 66,
     "metadata": {},
     "output_type": "execute_result"
    }
   ],
   "source": [
    "logmodel.coef_"
   ]
  },
  {
   "cell_type": "code",
   "execution_count": 67,
   "metadata": {},
   "outputs": [
    {
     "data": {
      "text/plain": [
       "array([-0.00291632])"
      ]
     },
     "execution_count": 67,
     "metadata": {},
     "output_type": "execute_result"
    }
   ],
   "source": [
    "logmodel.intercept_"
   ]
  },
  {
   "cell_type": "code",
   "execution_count": 68,
   "metadata": {},
   "outputs": [
    {
     "data": {
      "text/plain": [
       "array([[7.19884276e-01, 2.80115724e-01],\n",
       "       [2.31204793e-01, 7.68795207e-01],\n",
       "       [8.44187624e-01, 1.55812376e-01],\n",
       "       [7.53936056e-01, 2.46063944e-01],\n",
       "       [3.35218562e-01, 6.64781438e-01],\n",
       "       [5.28242226e-01, 4.71757774e-01],\n",
       "       [6.43086751e-01, 3.56913249e-01],\n",
       "       [6.89344049e-01, 3.10655951e-01],\n",
       "       [1.10768912e-01, 8.89231088e-01],\n",
       "       [1.53612527e-01, 8.46387473e-01],\n",
       "       [8.35910153e-01, 1.64089847e-01],\n",
       "       [9.99831991e-01, 1.68009480e-04],\n",
       "       [1.55281399e-01, 8.44718601e-01],\n",
       "       [5.65020290e-01, 4.34979710e-01],\n",
       "       [2.74435472e-01, 7.25564528e-01],\n",
       "       [5.81442813e-01, 4.18557187e-01],\n",
       "       [8.37015039e-01, 1.62984961e-01],\n",
       "       [4.57514421e-01, 5.42485579e-01],\n",
       "       [4.66721884e-01, 5.33278116e-01],\n",
       "       [9.99933451e-01, 6.65494985e-05],\n",
       "       [9.99999652e-01, 3.48349762e-07],\n",
       "       [9.59813493e-01, 4.01865075e-02],\n",
       "       [8.13095106e-01, 1.86904894e-01],\n",
       "       [9.99155806e-01, 8.44194088e-04]])"
      ]
     },
     "execution_count": 68,
     "metadata": {},
     "output_type": "execute_result"
    }
   ],
   "source": [
    "logmodel.predict_proba(x)"
   ]
  },
  {
   "cell_type": "code",
   "execution_count": 69,
   "metadata": {},
   "outputs": [
    {
     "data": {
      "text/plain": [
       "array([0.52824223, 0.47175777])"
      ]
     },
     "execution_count": 69,
     "metadata": {},
     "output_type": "execute_result"
    }
   ],
   "source": [
    "logmodel.predict_proba(x)[5]"
   ]
  },
  {
   "cell_type": "code",
   "execution_count": 70,
   "metadata": {},
   "outputs": [
    {
     "data": {
      "text/plain": [
       "array([0, 1, 0, 0, 1, 0, 0, 0, 1, 1, 0, 0, 1, 0, 1, 0, 0, 1, 1, 0, 0, 0,\n",
       "       0, 0], dtype=int64)"
      ]
     },
     "execution_count": 70,
     "metadata": {},
     "output_type": "execute_result"
    }
   ],
   "source": [
    "#.5 boundary condition 1= Defaulter; 0= Solvent\n",
    "\n",
    "y_pre=logmodel.predict(x)\n",
    "y_pre"
   ]
  },
  {
   "cell_type": "code",
   "execution_count": 71,
   "metadata": {},
   "outputs": [
    {
     "data": {
      "text/plain": [
       "array([0, 1, 0, 0, 1, 1, 1, 1, 1, 1, 0, 0, 1, 1, 1, 1, 0, 1, 1, 0, 0, 0,\n",
       "       0, 0], dtype=int64)"
      ]
     },
     "execution_count": 71,
     "metadata": {},
     "output_type": "execute_result"
    }
   ],
   "source": [
    "#f=0 t=1\n",
    "y_pre_02=(logmodel.predict_proba(x)[:,1]>=.3)\n",
    "y_pre_02=y_pre_02.astype(np.int64)\n",
    "y_pre_02"
   ]
  },
  {
   "cell_type": "code",
   "execution_count": 72,
   "metadata": {},
   "outputs": [
    {
     "data": {
      "text/plain": [
       "array([[14,  2],\n",
       "       [ 2,  6]], dtype=int64)"
      ]
     },
     "execution_count": 72,
     "metadata": {},
     "output_type": "execute_result"
    }
   ],
   "source": [
    "from sklearn.metrics import confusion_matrix\n",
    "confusion_matrix(y, y_pre)"
   ]
  },
  {
   "cell_type": "code",
   "execution_count": 73,
   "metadata": {},
   "outputs": [
    {
     "data": {
      "text/plain": [
       "array([[10,  6],\n",
       "       [ 1,  7]], dtype=int64)"
      ]
     },
     "execution_count": 73,
     "metadata": {},
     "output_type": "execute_result"
    }
   ],
   "source": [
    "confusion_matrix(y, y_pre_02)"
   ]
  },
  {
   "cell_type": "code",
   "execution_count": 74,
   "metadata": {},
   "outputs": [
    {
     "data": {
      "text/plain": [
       "0.8333333333333334"
      ]
     },
     "execution_count": 74,
     "metadata": {},
     "output_type": "execute_result"
    }
   ],
   "source": [
    "20/24"
   ]
  },
  {
   "cell_type": "code",
   "execution_count": 75,
   "metadata": {},
   "outputs": [
    {
     "data": {
      "text/plain": [
       "0.7083333333333334"
      ]
     },
     "execution_count": 75,
     "metadata": {},
     "output_type": "execute_result"
    }
   ],
   "source": [
    "17/24"
   ]
  },
  {
   "cell_type": "markdown",
   "metadata": {},
   "source": [
    "# knn\n"
   ]
  },
  {
   "cell_type": "code",
   "execution_count": 76,
   "metadata": {},
   "outputs": [
    {
     "data": {
      "text/html": [
       "<div>\n",
       "<style scoped>\n",
       "    .dataframe tbody tr th:only-of-type {\n",
       "        vertical-align: middle;\n",
       "    }\n",
       "\n",
       "    .dataframe tbody tr th {\n",
       "        vertical-align: top;\n",
       "    }\n",
       "\n",
       "    .dataframe thead th {\n",
       "        text-align: right;\n",
       "    }\n",
       "</style>\n",
       "<table border=\"1\" class=\"dataframe\">\n",
       "  <thead>\n",
       "    <tr style=\"text-align: right;\">\n",
       "      <th></th>\n",
       "      <th>loan_amnt</th>\n",
       "      <th>int_rate</th>\n",
       "      <th>annual_inc</th>\n",
       "      <th>revol_util</th>\n",
       "      <th>total_pymnt</th>\n",
       "      <th>last_pymnt_amnt</th>\n",
       "      <th>loan_status</th>\n",
       "      <th>term_Nmonths</th>\n",
       "      <th>emp_length_Nyears</th>\n",
       "      <th>B</th>\n",
       "      <th>C</th>\n",
       "      <th>D</th>\n",
       "      <th>E</th>\n",
       "      <th>F</th>\n",
       "      <th>RENT</th>\n",
       "    </tr>\n",
       "  </thead>\n",
       "  <tbody>\n",
       "    <tr>\n",
       "      <th>0</th>\n",
       "      <td>5000.0</td>\n",
       "      <td>10.65</td>\n",
       "      <td>24000.0</td>\n",
       "      <td>83.7</td>\n",
       "      <td>5861.071414</td>\n",
       "      <td>171.62</td>\n",
       "      <td>0</td>\n",
       "      <td>36</td>\n",
       "      <td>10</td>\n",
       "      <td>1</td>\n",
       "      <td>0</td>\n",
       "      <td>0</td>\n",
       "      <td>0</td>\n",
       "      <td>0</td>\n",
       "      <td>1</td>\n",
       "    </tr>\n",
       "    <tr>\n",
       "      <th>1</th>\n",
       "      <td>2500.0</td>\n",
       "      <td>15.27</td>\n",
       "      <td>30000.0</td>\n",
       "      <td>9.4</td>\n",
       "      <td>1008.710000</td>\n",
       "      <td>119.66</td>\n",
       "      <td>1</td>\n",
       "      <td>60</td>\n",
       "      <td>.5</td>\n",
       "      <td>0</td>\n",
       "      <td>1</td>\n",
       "      <td>0</td>\n",
       "      <td>0</td>\n",
       "      <td>0</td>\n",
       "      <td>1</td>\n",
       "    </tr>\n",
       "    <tr>\n",
       "      <th>2</th>\n",
       "      <td>2400.0</td>\n",
       "      <td>15.96</td>\n",
       "      <td>12252.0</td>\n",
       "      <td>98.5</td>\n",
       "      <td>3003.653644</td>\n",
       "      <td>649.91</td>\n",
       "      <td>0</td>\n",
       "      <td>36</td>\n",
       "      <td>10</td>\n",
       "      <td>0</td>\n",
       "      <td>1</td>\n",
       "      <td>0</td>\n",
       "      <td>0</td>\n",
       "      <td>0</td>\n",
       "      <td>1</td>\n",
       "    </tr>\n",
       "    <tr>\n",
       "      <th>3</th>\n",
       "      <td>10000.0</td>\n",
       "      <td>13.49</td>\n",
       "      <td>49200.0</td>\n",
       "      <td>21.0</td>\n",
       "      <td>12226.302210</td>\n",
       "      <td>357.48</td>\n",
       "      <td>0</td>\n",
       "      <td>36</td>\n",
       "      <td>10</td>\n",
       "      <td>0</td>\n",
       "      <td>1</td>\n",
       "      <td>0</td>\n",
       "      <td>0</td>\n",
       "      <td>0</td>\n",
       "      <td>1</td>\n",
       "    </tr>\n",
       "    <tr>\n",
       "      <th>4</th>\n",
       "      <td>3000.0</td>\n",
       "      <td>12.69</td>\n",
       "      <td>80000.0</td>\n",
       "      <td>53.9</td>\n",
       "      <td>3242.170000</td>\n",
       "      <td>67.79</td>\n",
       "      <td>1</td>\n",
       "      <td>60</td>\n",
       "      <td>1</td>\n",
       "      <td>1</td>\n",
       "      <td>0</td>\n",
       "      <td>0</td>\n",
       "      <td>0</td>\n",
       "      <td>0</td>\n",
       "      <td>1</td>\n",
       "    </tr>\n",
       "  </tbody>\n",
       "</table>\n",
       "</div>"
      ],
      "text/plain": [
       "   loan_amnt  int_rate  annual_inc  revol_util   total_pymnt  last_pymnt_amnt  \\\n",
       "0     5000.0     10.65     24000.0        83.7   5861.071414           171.62   \n",
       "1     2500.0     15.27     30000.0         9.4   1008.710000           119.66   \n",
       "2     2400.0     15.96     12252.0        98.5   3003.653644           649.91   \n",
       "3    10000.0     13.49     49200.0        21.0  12226.302210           357.48   \n",
       "4     3000.0     12.69     80000.0        53.9   3242.170000            67.79   \n",
       "\n",
       "   loan_status term_Nmonths emp_length_Nyears  B  C  D  E  F  RENT  \n",
       "0            0          36                10   1  0  0  0  0     1  \n",
       "1            1          60                .5   0  1  0  0  0     1  \n",
       "2            0          36                10   0  1  0  0  0     1  \n",
       "3            0          36                10   0  1  0  0  0     1  \n",
       "4            1          60                 1   1  0  0  0  0     1  "
      ]
     },
     "execution_count": 76,
     "metadata": {},
     "output_type": "execute_result"
    }
   ],
   "source": [
    "df.head()"
   ]
  },
  {
   "cell_type": "code",
   "execution_count": 77,
   "metadata": {},
   "outputs": [
    {
     "data": {
      "text/html": [
       "<div>\n",
       "<style scoped>\n",
       "    .dataframe tbody tr th:only-of-type {\n",
       "        vertical-align: middle;\n",
       "    }\n",
       "\n",
       "    .dataframe tbody tr th {\n",
       "        vertical-align: top;\n",
       "    }\n",
       "\n",
       "    .dataframe thead th {\n",
       "        text-align: right;\n",
       "    }\n",
       "</style>\n",
       "<table border=\"1\" class=\"dataframe\">\n",
       "  <thead>\n",
       "    <tr style=\"text-align: right;\">\n",
       "      <th></th>\n",
       "      <th>loan_amnt</th>\n",
       "      <th>int_rate</th>\n",
       "      <th>annual_inc</th>\n",
       "      <th>revol_util</th>\n",
       "      <th>total_pymnt</th>\n",
       "      <th>last_pymnt_amnt</th>\n",
       "      <th>term_Nmonths</th>\n",
       "      <th>emp_length_Nyears</th>\n",
       "      <th>B</th>\n",
       "      <th>C</th>\n",
       "      <th>D</th>\n",
       "      <th>E</th>\n",
       "      <th>F</th>\n",
       "      <th>RENT</th>\n",
       "    </tr>\n",
       "  </thead>\n",
       "  <tbody>\n",
       "    <tr>\n",
       "      <th>0</th>\n",
       "      <td>5000.0</td>\n",
       "      <td>10.65</td>\n",
       "      <td>24000.0</td>\n",
       "      <td>83.7</td>\n",
       "      <td>5861.071414</td>\n",
       "      <td>171.62</td>\n",
       "      <td>36</td>\n",
       "      <td>10</td>\n",
       "      <td>1</td>\n",
       "      <td>0</td>\n",
       "      <td>0</td>\n",
       "      <td>0</td>\n",
       "      <td>0</td>\n",
       "      <td>1</td>\n",
       "    </tr>\n",
       "    <tr>\n",
       "      <th>1</th>\n",
       "      <td>2500.0</td>\n",
       "      <td>15.27</td>\n",
       "      <td>30000.0</td>\n",
       "      <td>9.4</td>\n",
       "      <td>1008.710000</td>\n",
       "      <td>119.66</td>\n",
       "      <td>60</td>\n",
       "      <td>.5</td>\n",
       "      <td>0</td>\n",
       "      <td>1</td>\n",
       "      <td>0</td>\n",
       "      <td>0</td>\n",
       "      <td>0</td>\n",
       "      <td>1</td>\n",
       "    </tr>\n",
       "    <tr>\n",
       "      <th>2</th>\n",
       "      <td>2400.0</td>\n",
       "      <td>15.96</td>\n",
       "      <td>12252.0</td>\n",
       "      <td>98.5</td>\n",
       "      <td>3003.653644</td>\n",
       "      <td>649.91</td>\n",
       "      <td>36</td>\n",
       "      <td>10</td>\n",
       "      <td>0</td>\n",
       "      <td>1</td>\n",
       "      <td>0</td>\n",
       "      <td>0</td>\n",
       "      <td>0</td>\n",
       "      <td>1</td>\n",
       "    </tr>\n",
       "    <tr>\n",
       "      <th>3</th>\n",
       "      <td>10000.0</td>\n",
       "      <td>13.49</td>\n",
       "      <td>49200.0</td>\n",
       "      <td>21.0</td>\n",
       "      <td>12226.302210</td>\n",
       "      <td>357.48</td>\n",
       "      <td>36</td>\n",
       "      <td>10</td>\n",
       "      <td>0</td>\n",
       "      <td>1</td>\n",
       "      <td>0</td>\n",
       "      <td>0</td>\n",
       "      <td>0</td>\n",
       "      <td>1</td>\n",
       "    </tr>\n",
       "    <tr>\n",
       "      <th>4</th>\n",
       "      <td>3000.0</td>\n",
       "      <td>12.69</td>\n",
       "      <td>80000.0</td>\n",
       "      <td>53.9</td>\n",
       "      <td>3242.170000</td>\n",
       "      <td>67.79</td>\n",
       "      <td>60</td>\n",
       "      <td>1</td>\n",
       "      <td>1</td>\n",
       "      <td>0</td>\n",
       "      <td>0</td>\n",
       "      <td>0</td>\n",
       "      <td>0</td>\n",
       "      <td>1</td>\n",
       "    </tr>\n",
       "  </tbody>\n",
       "</table>\n",
       "</div>"
      ],
      "text/plain": [
       "   loan_amnt  int_rate  annual_inc  revol_util   total_pymnt  last_pymnt_amnt  \\\n",
       "0     5000.0     10.65     24000.0        83.7   5861.071414           171.62   \n",
       "1     2500.0     15.27     30000.0         9.4   1008.710000           119.66   \n",
       "2     2400.0     15.96     12252.0        98.5   3003.653644           649.91   \n",
       "3    10000.0     13.49     49200.0        21.0  12226.302210           357.48   \n",
       "4     3000.0     12.69     80000.0        53.9   3242.170000            67.79   \n",
       "\n",
       "  term_Nmonths emp_length_Nyears  B  C  D  E  F  RENT  \n",
       "0          36                10   1  0  0  0  0     1  \n",
       "1          60                .5   0  1  0  0  0     1  \n",
       "2          36                10   0  1  0  0  0     1  \n",
       "3          36                10   0  1  0  0  0     1  \n",
       "4          60                 1   1  0  0  0  0     1  "
      ]
     },
     "execution_count": 77,
     "metadata": {},
     "output_type": "execute_result"
    }
   ],
   "source": [
    "x.head()"
   ]
  },
  {
   "cell_type": "code",
   "execution_count": 78,
   "metadata": {},
   "outputs": [
    {
     "data": {
      "text/plain": [
       "0    0\n",
       "1    1\n",
       "2    0\n",
       "3    0\n",
       "4    1\n",
       "Name: loan_status, dtype: int64"
      ]
     },
     "execution_count": 78,
     "metadata": {},
     "output_type": "execute_result"
    }
   ],
   "source": [
    "y.head()"
   ]
  },
  {
   "cell_type": "code",
   "execution_count": 79,
   "metadata": {},
   "outputs": [],
   "source": [
    "from sklearn import preprocessing\n",
    "scaler = preprocessing.StandardScaler().fit(X_train)\n",
    "X_train_s= scaler.transform(X_train)"
   ]
  },
  {
   "cell_type": "code",
   "execution_count": 80,
   "metadata": {},
   "outputs": [],
   "source": [
    "scaler = preprocessing.StandardScaler().fit(X_test)\n",
    "X_test_s= scaler.transform(X_test)"
   ]
  },
  {
   "cell_type": "code",
   "execution_count": 81,
   "metadata": {},
   "outputs": [
    {
     "data": {
      "text/plain": [
       "array([[-1.18586799,  0.7155433 , -0.65676138, -1.8205704 , -1.1135926 ,\n",
       "        -0.42719218,  1.4832397 , -1.10328077, -1.        ,  1.73205081,\n",
       "        -0.25819889,  0.        , -0.25819889,  0.57735027],\n",
       "       [ 1.10658724, -0.60249709,  1.86228887, -0.09653301,  0.36203218,\n",
       "        -0.31341762, -0.67419986, -0.42433876,  1.        , -0.57735027,\n",
       "        -0.25819889,  0.        , -0.25819889,  0.57735027],\n",
       "       [ 1.10658724, -0.30008955,  0.06296726,  0.90946713,  1.3735714 ,\n",
       "        -0.30046009, -0.67419986,  1.47669888,  1.        , -0.57735027,\n",
       "        -0.25819889,  0.        , -0.25819889, -1.73205081],\n",
       "       [-0.42171624, -0.60249709, -0.87267998,  0.95808423, -0.00575498,\n",
       "        -0.39850562, -0.67419986,  1.47669888,  1.        , -0.57735027,\n",
       "        -0.25819889,  0.        , -0.25819889,  0.57735027],\n",
       "       [ 0.80092655,  0.20772687, -0.65676138,  1.25726643, -0.82546897,\n",
       "        -0.32465816, -0.67419986, -1.10328077, -1.        ,  1.73205081,\n",
       "        -0.25819889,  0.        , -0.25819889,  0.57735027],\n",
       "       [-0.42171624, -1.38704494, -0.44084279, -1.11375247, -0.0581961 ,\n",
       "        -0.40435225, -0.67419986, -0.42433876, -1.        , -0.57735027,\n",
       "        -0.25819889,  0.        , -0.25819889,  0.57735027],\n",
       "       [ 1.10658724,  0.7155433 , -0.2249242 ,  0.45321428,  1.51436928,\n",
       "        -0.28872819, -0.67419986, -0.15276195, -1.        ,  1.73205081,\n",
       "        -0.25819889,  0.        , -0.25819889,  0.57735027],\n",
       "       [-1.03303764, -0.02050523,  1.14256023, -0.15636944, -0.60367365,\n",
       "        -0.45582905,  1.4832397 , -0.96749237,  1.        , -0.57735027,\n",
       "        -0.25819889,  0.        , -0.25819889,  0.57735027],\n",
       "       [-0.23831982,  2.43013697, -0.29689706, -0.95294204, -1.19639798,\n",
       "        -0.4091223 ,  1.4832397 , -0.15276195, -1.        , -0.57735027,\n",
       "        -0.25819889,  0.        ,  3.87298335, -1.73205081],\n",
       "       [-1.03303764, -0.81361178, -1.19655787, -0.56026541, -0.54960737,\n",
       "        -0.43670468, -0.67419986, -0.42433876,  1.        , -0.57735027,\n",
       "        -0.25819889,  0.        , -0.25819889,  0.57735027],\n",
       "       [-0.30709348, -0.02050523, -1.19655787, -0.80709072, -1.00686272,\n",
       "        -0.42620394,  1.4832397 , -1.10328077,  1.        , -0.57735027,\n",
       "        -0.25819889,  0.        , -0.25819889,  0.57735027],\n",
       "       [-1.64435903,  1.00653923, -0.72873425,  0.87580913, -1.05389868,\n",
       "        -0.4732033 , -0.67419986, -1.10328077, -1.        , -0.57735027,\n",
       "         3.87298335,  0.        , -0.25819889,  0.57735027],\n",
       "       [ 1.10658724, -0.30008955,  0.06296726,  1.2610062 ,  1.28995288,\n",
       "         2.23551777, -0.67419986,  0.11881485,  1.        , -0.57735027,\n",
       "        -0.25819889,  0.        , -0.25819889,  0.57735027],\n",
       "       [ 0.18960515,  0.91239349, -0.04484809,  1.02914   ,  0.5138234 ,\n",
       "        -0.39935584,  1.4832397 ,  0.93354527, -1.        ,  1.73205081,\n",
       "        -0.25819889,  0.        , -0.25819889,  0.57735027],\n",
       "       [-0.84964122, -1.92053748,  2.22215319, -1.57374509, -0.47973613,\n",
       "        -0.1711387 , -0.67419986,  1.47669888, -1.        , -0.57735027,\n",
       "        -0.25819889,  0.        , -0.25819889, -1.73205081],\n",
       "       [ 1.71790864, -0.02050523,  0.96262807,  0.33728118,  1.83944005,\n",
       "         2.99335414, -0.67419986,  1.47669888,  1.        , -0.57735027,\n",
       "        -0.25819889,  0.        , -0.25819889, -1.73205081]])"
      ]
     },
     "execution_count": 81,
     "metadata": {},
     "output_type": "execute_result"
    }
   ],
   "source": [
    "X_train_s"
   ]
  },
  {
   "cell_type": "code",
   "execution_count": 82,
   "metadata": {},
   "outputs": [
    {
     "data": {
      "text/plain": [
       "array([[ 1.06349834, -2.15031457,  0.59116938, -1.05881486, -0.16175639,\n",
       "         2.03470467, -0.57735027, -0.22677868, -0.57735027, -1.        ,\n",
       "         0.        , -0.37796447,  0.        ,  0.57735027],\n",
       "       [-0.00670944,  0.32400034,  0.39200137, -1.13457166, -0.405095  ,\n",
       "        -0.18797669,  1.73205081, -0.52915026, -0.57735027,  1.        ,\n",
       "         0.        , -0.37796447,  0.        , -1.73205081],\n",
       "       [ 0.39668292, -0.31610665,  1.61248649,  0.97752782,  0.46151723,\n",
       "        -0.51894162, -0.57735027,  0.98270763,  1.73205081, -1.        ,\n",
       "         0.        , -0.37796447,  0.        ,  0.57735027],\n",
       "       [-0.20489607, -0.51990753,  0.83581414, -0.61548609, -0.47513248,\n",
       "        -0.75654474, -0.57735027, -1.73863658,  1.73205081, -1.        ,\n",
       "         0.        , -0.37796447,  0.        , -1.73205081],\n",
       "       [-1.39401583,  1.46930388, -0.49562417,  0.89268021, -0.91559435,\n",
       "        -0.72380253, -0.57735027,  0.68033605, -0.57735027, -1.        ,\n",
       "         0.        ,  2.64575131,  0.        ,  0.57735027],\n",
       "       [ 0.39668292,  0.50196731, -0.66686193,  0.83510504,  2.32332745,\n",
       "         1.32787745,  1.73205081, -1.13389342, -0.57735027,  1.        ,\n",
       "         0.        , -0.37796447,  0.        ,  0.57735027],\n",
       "       [-1.63183979,  0.70002732, -1.8177424 ,  1.22601011, -1.04317097,\n",
       "        -0.53692277, -0.57735027,  0.98270763, -0.57735027,  1.        ,\n",
       "         0.        , -0.37796447,  0.        ,  0.57735027],\n",
       "       [ 1.38059695, -0.00897011, -0.45124289, -1.12245057,  0.2159045 ,\n",
       "        -0.63839379, -0.57735027,  0.98270763, -0.57735027,  1.        ,\n",
       "         0.        , -0.37796447,  0.        ,  0.57735027]])"
      ]
     },
     "execution_count": 82,
     "metadata": {},
     "output_type": "execute_result"
    }
   ],
   "source": [
    "X_test_s"
   ]
  },
  {
   "cell_type": "code",
   "execution_count": 83,
   "metadata": {},
   "outputs": [
    {
     "data": {
      "text/plain": [
       "KNeighborsClassifier(algorithm='auto', leaf_size=30, metric='minkowski',\n",
       "                     metric_params=None, n_jobs=None, n_neighbors=1, p=2,\n",
       "                     weights='uniform')"
      ]
     },
     "execution_count": 83,
     "metadata": {},
     "output_type": "execute_result"
    }
   ],
   "source": [
    "from sklearn.neighbors import KNeighborsClassifier\n",
    "clf_knn_1 = KNeighborsClassifier(n_neighbors=1)\n",
    "clf_knn_1.fit(X_train_s, y_train)"
   ]
  },
  {
   "cell_type": "code",
   "execution_count": 84,
   "metadata": {},
   "outputs": [
    {
     "data": {
      "text/plain": [
       "array([[5, 2],\n",
       "       [0, 1]], dtype=int64)"
      ]
     },
     "execution_count": 84,
     "metadata": {},
     "output_type": "execute_result"
    }
   ],
   "source": [
    "confusion_matrix(y_test, clf_knn_1.predict(X_test_s))"
   ]
  },
  {
   "cell_type": "code",
   "execution_count": 85,
   "metadata": {},
   "outputs": [
    {
     "data": {
      "text/plain": [
       "0.75"
      ]
     },
     "execution_count": 85,
     "metadata": {},
     "output_type": "execute_result"
    }
   ],
   "source": [
    "6/8"
   ]
  },
  {
   "cell_type": "code",
   "execution_count": 86,
   "metadata": {},
   "outputs": [
    {
     "data": {
      "text/plain": [
       "KNeighborsClassifier(algorithm='auto', leaf_size=30, metric='minkowski',\n",
       "                     metric_params=None, n_jobs=None, n_neighbors=3, p=2,\n",
       "                     weights='uniform')"
      ]
     },
     "execution_count": 86,
     "metadata": {},
     "output_type": "execute_result"
    }
   ],
   "source": [
    "clf_knn_3 = KNeighborsClassifier(n_neighbors=3)\n",
    "clf_knn_3.fit(X_train_s, y_train)"
   ]
  },
  {
   "cell_type": "code",
   "execution_count": 87,
   "metadata": {},
   "outputs": [
    {
     "data": {
      "text/plain": [
       "array([[5, 2],\n",
       "       [1, 0]], dtype=int64)"
      ]
     },
     "execution_count": 87,
     "metadata": {},
     "output_type": "execute_result"
    }
   ],
   "source": [
    "confusion_matrix(y_test, clf_knn_3.predict(X_test_s))"
   ]
  },
  {
   "cell_type": "code",
   "execution_count": 88,
   "metadata": {},
   "outputs": [
    {
     "data": {
      "text/plain": [
       "0.625"
      ]
     },
     "execution_count": 88,
     "metadata": {},
     "output_type": "execute_result"
    }
   ],
   "source": [
    "5/8"
   ]
  },
  {
   "cell_type": "code",
   "execution_count": 89,
   "metadata": {},
   "outputs": [],
   "source": [
    "from sklearn.model_selection import GridSearchCV"
   ]
  },
  {
   "cell_type": "code",
   "execution_count": 90,
   "metadata": {},
   "outputs": [],
   "source": [
    "params = {'n_neighbors': [1, 2,3,4,5,6,7,8,9,10,11,12 ]}"
   ]
  },
  {
   "cell_type": "code",
   "execution_count": 91,
   "metadata": {},
   "outputs": [],
   "source": [
    "grid_search_cv = GridSearchCV(KNeighborsClassifier(), params)"
   ]
  },
  {
   "cell_type": "code",
   "execution_count": 92,
   "metadata": {},
   "outputs": [
    {
     "data": {
      "text/plain": [
       "GridSearchCV(cv=None, error_score=nan,\n",
       "             estimator=KNeighborsClassifier(algorithm='auto', leaf_size=30,\n",
       "                                            metric='minkowski',\n",
       "                                            metric_params=None, n_jobs=None,\n",
       "                                            n_neighbors=5, p=2,\n",
       "                                            weights='uniform'),\n",
       "             iid='deprecated', n_jobs=None,\n",
       "             param_grid={'n_neighbors': [1, 2, 3, 4, 5, 6, 7, 8, 9, 10, 11,\n",
       "                                         12]},\n",
       "             pre_dispatch='2*n_jobs', refit=True, return_train_score=False,\n",
       "             scoring=None, verbose=0)"
      ]
     },
     "execution_count": 92,
     "metadata": {},
     "output_type": "execute_result"
    }
   ],
   "source": [
    "grid_search_cv.fit(X_train_s, y_train)"
   ]
  },
  {
   "cell_type": "code",
   "execution_count": 93,
   "metadata": {},
   "outputs": [
    {
     "data": {
      "text/plain": [
       "{'n_neighbors': 3}"
      ]
     },
     "execution_count": 93,
     "metadata": {},
     "output_type": "execute_result"
    }
   ],
   "source": [
    "grid_search_cv.best_params_"
   ]
  },
  {
   "cell_type": "code",
   "execution_count": 94,
   "metadata": {},
   "outputs": [],
   "source": [
    "optimised_KNN = grid_search_cv.best_estimator_"
   ]
  },
  {
   "cell_type": "code",
   "execution_count": 95,
   "metadata": {},
   "outputs": [],
   "source": [
    "y_test_pred = optimised_KNN.predict(X_test_s) "
   ]
  },
  {
   "cell_type": "code",
   "execution_count": 96,
   "metadata": {},
   "outputs": [
    {
     "data": {
      "text/plain": [
       "array([[5, 2],\n",
       "       [1, 0]], dtype=int64)"
      ]
     },
     "execution_count": 96,
     "metadata": {},
     "output_type": "execute_result"
    }
   ],
   "source": [
    "confusion_matrix(y_test, y_test_pred)"
   ]
  },
  {
   "cell_type": "markdown",
   "metadata": {},
   "source": [
    "# Tree"
   ]
  },
  {
   "cell_type": "code",
   "execution_count": 97,
   "metadata": {},
   "outputs": [],
   "source": [
    "from sklearn import tree\n",
    "clftree = tree.DecisionTreeClassifier( min_samples_split=4)"
   ]
  },
  {
   "cell_type": "code",
   "execution_count": 98,
   "metadata": {},
   "outputs": [
    {
     "data": {
      "text/plain": [
       "DecisionTreeClassifier(ccp_alpha=0.0, class_weight=None, criterion='gini',\n",
       "                       max_depth=None, max_features=None, max_leaf_nodes=None,\n",
       "                       min_impurity_decrease=0.0, min_impurity_split=None,\n",
       "                       min_samples_leaf=1, min_samples_split=4,\n",
       "                       min_weight_fraction_leaf=0.0, presort='deprecated',\n",
       "                       random_state=None, splitter='best')"
      ]
     },
     "execution_count": 98,
     "metadata": {},
     "output_type": "execute_result"
    }
   ],
   "source": [
    "clftree.fit(X_train, y_train)"
   ]
  },
  {
   "cell_type": "code",
   "execution_count": 99,
   "metadata": {},
   "outputs": [],
   "source": [
    "y_train_pred = clftree.predict(X_train)\n",
    "y_test_pred = clftree.predict(X_test)"
   ]
  },
  {
   "cell_type": "code",
   "execution_count": 100,
   "metadata": {},
   "outputs": [
    {
     "data": {
      "text/plain": [
       "array([0, 1, 0, 0, 0, 1, 0, 0], dtype=int64)"
      ]
     },
     "execution_count": 100,
     "metadata": {},
     "output_type": "execute_result"
    }
   ],
   "source": [
    "y_test_pred"
   ]
  },
  {
   "cell_type": "code",
   "execution_count": 101,
   "metadata": {},
   "outputs": [],
   "source": [
    "from sklearn.metrics import accuracy_score, confusion_matrix"
   ]
  },
  {
   "cell_type": "code",
   "execution_count": 102,
   "metadata": {},
   "outputs": [
    {
     "data": {
      "text/plain": [
       "array([[9, 0],\n",
       "       [0, 7]], dtype=int64)"
      ]
     },
     "execution_count": 102,
     "metadata": {},
     "output_type": "execute_result"
    }
   ],
   "source": [
    "confusion_matrix(y_train, y_train_pred)"
   ]
  },
  {
   "cell_type": "code",
   "execution_count": 103,
   "metadata": {},
   "outputs": [
    {
     "data": {
      "text/plain": [
       "array([[5, 2],\n",
       "       [1, 0]], dtype=int64)"
      ]
     },
     "execution_count": 103,
     "metadata": {},
     "output_type": "execute_result"
    }
   ],
   "source": [
    "confusion_matrix(y_test, y_test_pred)"
   ]
  },
  {
   "cell_type": "code",
   "execution_count": 104,
   "metadata": {},
   "outputs": [
    {
     "data": {
      "text/plain": [
       "0.625"
      ]
     },
     "execution_count": 104,
     "metadata": {},
     "output_type": "execute_result"
    }
   ],
   "source": [
    "accuracy_score(y_test, y_test_pred)"
   ]
  },
  {
   "cell_type": "code",
   "execution_count": 105,
   "metadata": {},
   "outputs": [],
   "source": [
    "dot_data = tree.export_graphviz(clftree, out_file=None,feature_names= X_train.columns, filled = True)"
   ]
  },
  {
   "cell_type": "code",
   "execution_count": 106,
   "metadata": {},
   "outputs": [],
   "source": [
    "from IPython.display import Image"
   ]
  },
  {
   "cell_type": "code",
   "execution_count": 107,
   "metadata": {},
   "outputs": [],
   "source": [
    "import pydotplus"
   ]
  },
  {
   "cell_type": "code",
   "execution_count": 108,
   "metadata": {},
   "outputs": [
    {
     "data": {
      "image/png": "[encoded data removed]",
      "text/plain": [
       "<IPython.core.display.Image object>"
      ]
     },
     "execution_count": 108,
     "metadata": {},
     "output_type": "execute_result"
    }
   ],
   "source": [
    "graph = pydotplus.graph_from_dot_data(dot_data)\n",
    "Image(graph.create_png())"
   ]
  },
  {
   "cell_type": "code",
   "execution_count": 109,
   "metadata": {},
   "outputs": [],
   "source": [
    "##LR=75% LR2=83% KNN=62.5% DT=62.5%"
   ]
  }
 ],
 "metadata": {
  "kernelspec": {
   "display_name": "Python 3",
   "language": "python",
   "name": "python3"
  },
  "language_info": {
   "codemirror_mode": {
    "name": "ipython",
    "version": 3
   },
   "file_extension": ".py",
   "mimetype": "text/x-python",
   "name": "python",
   "nbconvert_exporter": "python",
   "pygments_lexer": "ipython3",
   "version": "3.7.6"
  }
 },
 "nbformat": 4,
 "nbformat_minor": 4
}
